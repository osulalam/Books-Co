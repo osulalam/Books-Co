{
 "cells": [
  {
   "cell_type": "markdown",
   "metadata": {},
   "source": [
    "# Books&Co - No, we will not be able to pay back the loan & afford the next book purchase order\n",
    "## I used the ML Algorithm XGBoost \n",
    "    ### It is one of the most accurate predicting classification package although it has the potential to overfit.\n",
    "## I looked at Accuracy to Validate the Model\n",
    "    ### I ran out of time, but I used the training data to cross-validate the measure of accuracy to make sure the model is predicting properly.\n",
    "## I used Python 3.5  to run my Python script\n",
    "    ### Unfortunately, I was unable to save the script as a .py (I ran out of time)    \n",
    "    DataScientist_Dia_Co-Osula_Lam.ipynb original_purchase_order.csv next_purchase_order.csv customer_features.csv product_features.csv last_month_assortment. csv next_month_assortment.csv"
   ]
  },
  {
   "cell_type": "code",
   "execution_count": null,
   "metadata": {
    "collapsed": true
   },
   "outputs": [],
   "source": [
    "import pandas as pd\n",
    "from sklearn import preprocessing\n",
    "from sklearn import pipeline\n",
    "from sklearn import linear_model\n",
    "from sklearn.cross_validation import train_test_split\n",
    "from sklearn.metrics import mean_squared_error\n",
    "from sklearn.model_selection import cross_val_score\n",
    "from sklearn.model_selection import ShuffleSplit\n",
    "from sklearn.svm import SVC\n",
    "from sklearn.linear_model import LogisticRegression\n",
    "from sklearn.ensemble import RandomForestClassifier\n",
    "from sklearn.neighbors import KNeighborsClassifier\n",
    "import numpy as np\n",
    "import xgboost as xgb\n",
    "from sklearn.metrics import accuracy_score\n",
    "from sklearn.metrics import confusion_matrix"
   ]
  },
  {
   "cell_type": "code",
   "execution_count": 2,
   "metadata": {
    "collapsed": true
   },
   "outputs": [],
   "source": [
    "train = pd.read_csv(r\"C:\\Users\\Osula\\Documents\\Recruitment\\Interviews\\Technical\\Dia&Co - Data Scientist\\last_month_assortment.csv\")\n",
    "test = pd.read_csv(r\"C:\\Users\\Osula\\Documents\\Recruitment\\Interviews\\Technical\\Dia&Co - Data Scientist\\next_month_assortment.csv\")\n",
    "purchase = pd.read_csv(r\"C:\\Users\\Osula\\Documents\\Recruitment\\Interviews\\Technical\\Dia&Co - Data Scientist\\original_purchase_order.csv\")\n",
    "customer = pd.read_csv(r\"C:\\Users\\Osula\\Documents\\Recruitment\\Interviews\\Technical\\Dia&Co - Data Scientist\\customer_features.csv\")\n",
    "product = pd.read_csv(r\"C:\\Users\\Osula\\Documents\\Recruitment\\Interviews\\Technical\\Dia&Co - Data Scientist\\product_features.csv\")"
   ]
  },
  {
   "cell_type": "code",
   "execution_count": 3,
   "metadata": {},
   "outputs": [
    {
     "data": {
      "text/html": [
       "<div>\n",
       "<style>\n",
       "    .dataframe thead tr:only-child th {\n",
       "        text-align: right;\n",
       "    }\n",
       "\n",
       "    .dataframe thead th {\n",
       "        text-align: left;\n",
       "    }\n",
       "\n",
       "    .dataframe tbody tr th {\n",
       "        vertical-align: top;\n",
       "    }\n",
       "</style>\n",
       "<table border=\"1\" class=\"dataframe\">\n",
       "  <thead>\n",
       "    <tr style=\"text-align: right;\">\n",
       "      <th></th>\n",
       "      <th>customer_id</th>\n",
       "      <th>product_id</th>\n",
       "      <th>purchased</th>\n",
       "    </tr>\n",
       "  </thead>\n",
       "  <tbody>\n",
       "    <tr>\n",
       "      <th>0</th>\n",
       "      <td>1000078</td>\n",
       "      <td>1730073</td>\n",
       "      <td>False</td>\n",
       "    </tr>\n",
       "    <tr>\n",
       "      <th>1</th>\n",
       "      <td>1000078</td>\n",
       "      <td>1470520</td>\n",
       "      <td>False</td>\n",
       "    </tr>\n",
       "    <tr>\n",
       "      <th>2</th>\n",
       "      <td>1000078</td>\n",
       "      <td>1861356</td>\n",
       "      <td>False</td>\n",
       "    </tr>\n",
       "    <tr>\n",
       "      <th>3</th>\n",
       "      <td>1000078</td>\n",
       "      <td>1240824</td>\n",
       "      <td>True</td>\n",
       "    </tr>\n",
       "    <tr>\n",
       "      <th>4</th>\n",
       "      <td>1000078</td>\n",
       "      <td>1155460</td>\n",
       "      <td>False</td>\n",
       "    </tr>\n",
       "  </tbody>\n",
       "</table>\n",
       "</div>"
      ],
      "text/plain": [
       "   customer_id  product_id  purchased\n",
       "0      1000078     1730073      False\n",
       "1      1000078     1470520      False\n",
       "2      1000078     1861356      False\n",
       "3      1000078     1240824       True\n",
       "4      1000078     1155460      False"
      ]
     },
     "execution_count": 3,
     "metadata": {},
     "output_type": "execute_result"
    }
   ],
   "source": [
    "train.head()"
   ]
  },
  {
   "cell_type": "code",
   "execution_count": 4,
   "metadata": {},
   "outputs": [
    {
     "data": {
      "text/html": [
       "<div>\n",
       "<style>\n",
       "    .dataframe thead tr:only-child th {\n",
       "        text-align: right;\n",
       "    }\n",
       "\n",
       "    .dataframe thead th {\n",
       "        text-align: left;\n",
       "    }\n",
       "\n",
       "    .dataframe tbody tr th {\n",
       "        vertical-align: top;\n",
       "    }\n",
       "</style>\n",
       "<table border=\"1\" class=\"dataframe\">\n",
       "  <thead>\n",
       "    <tr style=\"text-align: right;\">\n",
       "      <th></th>\n",
       "      <th>customer_id</th>\n",
       "      <th>product_id</th>\n",
       "      <th>purchased</th>\n",
       "      <th>quantity_purchased</th>\n",
       "      <th>cost_to_buy</th>\n",
       "      <th>retail_value</th>\n",
       "    </tr>\n",
       "  </thead>\n",
       "  <tbody>\n",
       "    <tr>\n",
       "      <th>0</th>\n",
       "      <td>1000078</td>\n",
       "      <td>1730073</td>\n",
       "      <td>False</td>\n",
       "      <td>81</td>\n",
       "      <td>1.74</td>\n",
       "      <td>10.21</td>\n",
       "    </tr>\n",
       "    <tr>\n",
       "      <th>1</th>\n",
       "      <td>1000078</td>\n",
       "      <td>1470520</td>\n",
       "      <td>False</td>\n",
       "      <td>99</td>\n",
       "      <td>1.92</td>\n",
       "      <td>13.85</td>\n",
       "    </tr>\n",
       "    <tr>\n",
       "      <th>2</th>\n",
       "      <td>1000078</td>\n",
       "      <td>1861356</td>\n",
       "      <td>False</td>\n",
       "      <td>65</td>\n",
       "      <td>1.98</td>\n",
       "      <td>10.41</td>\n",
       "    </tr>\n",
       "    <tr>\n",
       "      <th>3</th>\n",
       "      <td>1000078</td>\n",
       "      <td>1240824</td>\n",
       "      <td>True</td>\n",
       "      <td>52</td>\n",
       "      <td>2.21</td>\n",
       "      <td>15.54</td>\n",
       "    </tr>\n",
       "    <tr>\n",
       "      <th>4</th>\n",
       "      <td>1000078</td>\n",
       "      <td>1155460</td>\n",
       "      <td>False</td>\n",
       "      <td>53</td>\n",
       "      <td>1.78</td>\n",
       "      <td>14.03</td>\n",
       "    </tr>\n",
       "  </tbody>\n",
       "</table>\n",
       "</div>"
      ],
      "text/plain": [
       "   customer_id  product_id  purchased  quantity_purchased  cost_to_buy  \\\n",
       "0      1000078     1730073      False                  81         1.74   \n",
       "1      1000078     1470520      False                  99         1.92   \n",
       "2      1000078     1861356      False                  65         1.98   \n",
       "3      1000078     1240824       True                  52         2.21   \n",
       "4      1000078     1155460      False                  53         1.78   \n",
       "\n",
       "   retail_value  \n",
       "0         10.21  \n",
       "1         13.85  \n",
       "2         10.41  \n",
       "3         15.54  \n",
       "4         14.03  "
      ]
     },
     "execution_count": 4,
     "metadata": {},
     "output_type": "execute_result"
    }
   ],
   "source": [
    "train = train.merge(purchase, on=\"product_id\", how='left')\n",
    "test = test.merge(purchase, on=\"product_id\", how='left')\n",
    "train.head()"
   ]
  },
  {
   "cell_type": "code",
   "execution_count": 5,
   "metadata": {},
   "outputs": [
    {
     "data": {
      "text/html": [
       "<div>\n",
       "<style>\n",
       "    .dataframe thead tr:only-child th {\n",
       "        text-align: right;\n",
       "    }\n",
       "\n",
       "    .dataframe thead th {\n",
       "        text-align: left;\n",
       "    }\n",
       "\n",
       "    .dataframe tbody tr th {\n",
       "        vertical-align: top;\n",
       "    }\n",
       "</style>\n",
       "<table border=\"1\" class=\"dataframe\">\n",
       "  <thead>\n",
       "    <tr style=\"text-align: right;\">\n",
       "      <th></th>\n",
       "      <th>customer_id</th>\n",
       "      <th>product_id</th>\n",
       "      <th>purchased</th>\n",
       "      <th>quantity_purchased</th>\n",
       "      <th>cost_to_buy</th>\n",
       "      <th>retail_value</th>\n",
       "      <th>length</th>\n",
       "      <th>difficulty</th>\n",
       "      <th>fiction</th>\n",
       "      <th>genre</th>\n",
       "    </tr>\n",
       "  </thead>\n",
       "  <tbody>\n",
       "    <tr>\n",
       "      <th>0</th>\n",
       "      <td>1000078</td>\n",
       "      <td>1730073</td>\n",
       "      <td>False</td>\n",
       "      <td>81</td>\n",
       "      <td>1.74</td>\n",
       "      <td>10.21</td>\n",
       "      <td>219</td>\n",
       "      <td>4</td>\n",
       "      <td>True</td>\n",
       "      <td>Drama</td>\n",
       "    </tr>\n",
       "    <tr>\n",
       "      <th>1</th>\n",
       "      <td>1000078</td>\n",
       "      <td>1470520</td>\n",
       "      <td>False</td>\n",
       "      <td>99</td>\n",
       "      <td>1.92</td>\n",
       "      <td>13.85</td>\n",
       "      <td>934</td>\n",
       "      <td>5</td>\n",
       "      <td>True</td>\n",
       "      <td>Romance</td>\n",
       "    </tr>\n",
       "    <tr>\n",
       "      <th>2</th>\n",
       "      <td>1000078</td>\n",
       "      <td>1861356</td>\n",
       "      <td>False</td>\n",
       "      <td>65</td>\n",
       "      <td>1.98</td>\n",
       "      <td>10.41</td>\n",
       "      <td>156</td>\n",
       "      <td>-1</td>\n",
       "      <td>True</td>\n",
       "      <td>Thriller</td>\n",
       "    </tr>\n",
       "    <tr>\n",
       "      <th>3</th>\n",
       "      <td>1000078</td>\n",
       "      <td>1240824</td>\n",
       "      <td>True</td>\n",
       "      <td>52</td>\n",
       "      <td>2.21</td>\n",
       "      <td>15.54</td>\n",
       "      <td>454</td>\n",
       "      <td>1</td>\n",
       "      <td>True</td>\n",
       "      <td>Classic</td>\n",
       "    </tr>\n",
       "    <tr>\n",
       "      <th>4</th>\n",
       "      <td>1000078</td>\n",
       "      <td>1155460</td>\n",
       "      <td>False</td>\n",
       "      <td>53</td>\n",
       "      <td>1.78</td>\n",
       "      <td>14.03</td>\n",
       "      <td>910</td>\n",
       "      <td>1</td>\n",
       "      <td>True</td>\n",
       "      <td>Thriller</td>\n",
       "    </tr>\n",
       "  </tbody>\n",
       "</table>\n",
       "</div>"
      ],
      "text/plain": [
       "   customer_id  product_id  purchased  quantity_purchased  cost_to_buy  \\\n",
       "0      1000078     1730073      False                  81         1.74   \n",
       "1      1000078     1470520      False                  99         1.92   \n",
       "2      1000078     1861356      False                  65         1.98   \n",
       "3      1000078     1240824       True                  52         2.21   \n",
       "4      1000078     1155460      False                  53         1.78   \n",
       "\n",
       "   retail_value  length  difficulty  fiction     genre  \n",
       "0         10.21     219           4     True     Drama  \n",
       "1         13.85     934           5     True   Romance  \n",
       "2         10.41     156          -1     True  Thriller  \n",
       "3         15.54     454           1     True   Classic  \n",
       "4         14.03     910           1     True  Thriller  "
      ]
     },
     "execution_count": 5,
     "metadata": {},
     "output_type": "execute_result"
    }
   ],
   "source": [
    "train = train.merge(product, on=\"product_id\", how='left')\n",
    "test = test.merge(product, on=\"product_id\", how='left')\n",
    "train.head()"
   ]
  },
  {
   "cell_type": "code",
   "execution_count": 6,
   "metadata": {},
   "outputs": [
    {
     "name": "stdout",
     "output_type": "stream",
     "text": [
      "   customer_id  product_id  purchased  quantity_purchased  cost_to_buy  \\\n",
      "0      1000078     1730073      False                  81         1.74   \n",
      "1      1000078     1470520      False                  99         1.92   \n",
      "2      1000078     1861356      False                  65         1.98   \n",
      "3      1000078     1240824       True                  52         2.21   \n",
      "4      1000078     1155460      False                  53         1.78   \n",
      "\n",
      "   retail_value  length  difficulty  fiction     genre age_bucket  \\\n",
      "0         10.21     219           4     True     Drama      46-55   \n",
      "1         13.85     934           5     True   Romance      46-55   \n",
      "2         10.41     156          -1     True  Thriller      46-55   \n",
      "3         15.54     454           1     True   Classic      46-55   \n",
      "4         14.03     910           1     True  Thriller      46-55   \n",
      "\n",
      "   is_returning_customer                                    favorite_genres  \n",
      "0                   True  ['Classic', 'History', 'Self-Help', 'Romance',...  \n",
      "1                   True  ['Classic', 'History', 'Self-Help', 'Romance',...  \n",
      "2                   True  ['Classic', 'History', 'Self-Help', 'Romance',...  \n",
      "3                   True  ['Classic', 'History', 'Self-Help', 'Romance',...  \n",
      "4                   True  ['Classic', 'History', 'Self-Help', 'Romance',...   (36000, 13)\n",
      "test = (56400, 12)\n"
     ]
    }
   ],
   "source": [
    "train = train.merge(customer, on=\"customer_id\", how='left')\n",
    "test = test.merge(customer, on=\"customer_id\", how='left')\n",
    "print(train.head(), train.shape)\n",
    "print(\"test =\", test.shape)"
   ]
  },
  {
   "cell_type": "code",
   "execution_count": 7,
   "metadata": {},
   "outputs": [
    {
     "data": {
      "text/html": [
       "<div>\n",
       "<style>\n",
       "    .dataframe thead tr:only-child th {\n",
       "        text-align: right;\n",
       "    }\n",
       "\n",
       "    .dataframe thead th {\n",
       "        text-align: left;\n",
       "    }\n",
       "\n",
       "    .dataframe tbody tr th {\n",
       "        vertical-align: top;\n",
       "    }\n",
       "</style>\n",
       "<table border=\"1\" class=\"dataframe\">\n",
       "  <thead>\n",
       "    <tr style=\"text-align: right;\">\n",
       "      <th></th>\n",
       "      <th>customer_id</th>\n",
       "      <th>product_id</th>\n",
       "      <th>quantity_purchased</th>\n",
       "      <th>cost_to_buy</th>\n",
       "      <th>retail_value</th>\n",
       "      <th>length</th>\n",
       "      <th>difficulty</th>\n",
       "      <th>fiction</th>\n",
       "      <th>genre</th>\n",
       "      <th>age_bucket</th>\n",
       "      <th>is_returning_customer</th>\n",
       "      <th>favorite_genres</th>\n",
       "    </tr>\n",
       "  </thead>\n",
       "  <tbody>\n",
       "    <tr>\n",
       "      <th>0</th>\n",
       "      <td>1600785</td>\n",
       "      <td>1443029</td>\n",
       "      <td>71</td>\n",
       "      <td>2.27</td>\n",
       "      <td>12.88</td>\n",
       "      <td>266</td>\n",
       "      <td>1</td>\n",
       "      <td>True</td>\n",
       "      <td>Sci-Fi</td>\n",
       "      <td>56-65</td>\n",
       "      <td>False</td>\n",
       "      <td>['Romance', 'Biography', 'Classic', 'Pop-Psych...</td>\n",
       "    </tr>\n",
       "    <tr>\n",
       "      <th>1</th>\n",
       "      <td>1600785</td>\n",
       "      <td>1164138</td>\n",
       "      <td>97</td>\n",
       "      <td>2.23</td>\n",
       "      <td>14.11</td>\n",
       "      <td>749</td>\n",
       "      <td>2</td>\n",
       "      <td>True</td>\n",
       "      <td>Sci-Fi</td>\n",
       "      <td>56-65</td>\n",
       "      <td>False</td>\n",
       "      <td>['Romance', 'Biography', 'Classic', 'Pop-Psych...</td>\n",
       "    </tr>\n",
       "    <tr>\n",
       "      <th>2</th>\n",
       "      <td>1600785</td>\n",
       "      <td>1636511</td>\n",
       "      <td>51</td>\n",
       "      <td>1.61</td>\n",
       "      <td>10.77</td>\n",
       "      <td>278</td>\n",
       "      <td>1</td>\n",
       "      <td>True</td>\n",
       "      <td>Drama</td>\n",
       "      <td>56-65</td>\n",
       "      <td>False</td>\n",
       "      <td>['Romance', 'Biography', 'Classic', 'Pop-Psych...</td>\n",
       "    </tr>\n",
       "    <tr>\n",
       "      <th>3</th>\n",
       "      <td>1600785</td>\n",
       "      <td>1832547</td>\n",
       "      <td>95</td>\n",
       "      <td>2.09</td>\n",
       "      <td>13.60</td>\n",
       "      <td>268</td>\n",
       "      <td>2</td>\n",
       "      <td>True</td>\n",
       "      <td>Beach-Read</td>\n",
       "      <td>56-65</td>\n",
       "      <td>False</td>\n",
       "      <td>['Romance', 'Biography', 'Classic', 'Pop-Psych...</td>\n",
       "    </tr>\n",
       "    <tr>\n",
       "      <th>4</th>\n",
       "      <td>1600785</td>\n",
       "      <td>1237420</td>\n",
       "      <td>57</td>\n",
       "      <td>1.24</td>\n",
       "      <td>9.37</td>\n",
       "      <td>371</td>\n",
       "      <td>5</td>\n",
       "      <td>False</td>\n",
       "      <td>Self-Help</td>\n",
       "      <td>56-65</td>\n",
       "      <td>False</td>\n",
       "      <td>['Romance', 'Biography', 'Classic', 'Pop-Psych...</td>\n",
       "    </tr>\n",
       "  </tbody>\n",
       "</table>\n",
       "</div>"
      ],
      "text/plain": [
       "   customer_id  product_id  quantity_purchased  cost_to_buy  retail_value  \\\n",
       "0      1600785     1443029                  71         2.27         12.88   \n",
       "1      1600785     1164138                  97         2.23         14.11   \n",
       "2      1600785     1636511                  51         1.61         10.77   \n",
       "3      1600785     1832547                  95         2.09         13.60   \n",
       "4      1600785     1237420                  57         1.24          9.37   \n",
       "\n",
       "   length  difficulty  fiction       genre age_bucket  is_returning_customer  \\\n",
       "0     266           1     True      Sci-Fi      56-65                  False   \n",
       "1     749           2     True      Sci-Fi      56-65                  False   \n",
       "2     278           1     True       Drama      56-65                  False   \n",
       "3     268           2     True  Beach-Read      56-65                  False   \n",
       "4     371           5    False   Self-Help      56-65                  False   \n",
       "\n",
       "                                     favorite_genres  \n",
       "0  ['Romance', 'Biography', 'Classic', 'Pop-Psych...  \n",
       "1  ['Romance', 'Biography', 'Classic', 'Pop-Psych...  \n",
       "2  ['Romance', 'Biography', 'Classic', 'Pop-Psych...  \n",
       "3  ['Romance', 'Biography', 'Classic', 'Pop-Psych...  \n",
       "4  ['Romance', 'Biography', 'Classic', 'Pop-Psych...  "
      ]
     },
     "execution_count": 7,
     "metadata": {},
     "output_type": "execute_result"
    }
   ],
   "source": [
    "test.head()"
   ]
  },
  {
   "cell_type": "code",
   "execution_count": 8,
   "metadata": {},
   "outputs": [
    {
     "data": {
      "text/plain": [
       "customer_id                 0\n",
       "product_id                  0\n",
       "purchased                   0\n",
       "quantity_purchased          0\n",
       "cost_to_buy                 0\n",
       "retail_value                0\n",
       "length                      0\n",
       "difficulty                  0\n",
       "fiction                     0\n",
       "genre                       0\n",
       "age_bucket               1565\n",
       "is_returning_customer       0\n",
       "favorite_genres             0\n",
       "dtype: int64"
      ]
     },
     "execution_count": 8,
     "metadata": {},
     "output_type": "execute_result"
    }
   ],
   "source": [
    "train.isnull().sum()"
   ]
  },
  {
   "cell_type": "code",
   "execution_count": 9,
   "metadata": {},
   "outputs": [
    {
     "data": {
      "text/plain": [
       "customer_id                 0\n",
       "product_id                  0\n",
       "quantity_purchased          0\n",
       "cost_to_buy                 0\n",
       "retail_value                0\n",
       "length                      0\n",
       "difficulty                  0\n",
       "fiction                     0\n",
       "genre                       0\n",
       "age_bucket               2335\n",
       "is_returning_customer       0\n",
       "favorite_genres             0\n",
       "dtype: int64"
      ]
     },
     "execution_count": 9,
     "metadata": {},
     "output_type": "execute_result"
    }
   ],
   "source": [
    "test.isnull().sum()"
   ]
  },
  {
   "cell_type": "code",
   "execution_count": 10,
   "metadata": {},
   "outputs": [
    {
     "name": "stdout",
     "output_type": "stream",
     "text": [
      "        customer_id    product_id  quantity_purchased   cost_to_buy  \\\n",
      "count  3.600000e+04  3.600000e+04        36000.000000  36000.000000   \n",
      "mean   1.299424e+06  1.510835e+06           74.462694      1.817113   \n",
      "std    1.736275e+05  2.879044e+05           14.402848      0.348845   \n",
      "min    1.000078e+06  1.003455e+06           50.000000      1.200000   \n",
      "25%    1.150747e+06  1.265271e+06           62.000000      1.520000   \n",
      "50%    1.298142e+06  1.520469e+06           74.000000      1.840000   \n",
      "75%    1.451910e+06  1.762408e+06           87.000000      2.120000   \n",
      "max    1.600731e+06  1.998756e+06           99.000000      2.400000   \n",
      "\n",
      "       retail_value        length    difficulty  \n",
      "count  36000.000000  3.600000e+04  36000.000000  \n",
      "mean      12.046556  4.970584e+04      2.689889  \n",
      "std        3.012084  2.161559e+05      1.719406  \n",
      "min        6.220000  1.020000e+02     -1.000000  \n",
      "25%        9.690000  3.390000e+02      1.000000  \n",
      "50%       11.740000  5.780000e+02      3.000000  \n",
      "75%       14.190000  8.190000e+02      4.000000  \n",
      "max       19.570000  1.000489e+06      5.000000  \n"
     ]
    }
   ],
   "source": [
    "num = train.describe()\n",
    "print(num)"
   ]
  },
  {
   "cell_type": "code",
   "execution_count": 11,
   "metadata": {},
   "outputs": [
    {
     "name": "stdout",
     "output_type": "stream",
     "text": [
      "Index(['retail_value', 'length', 'difficulty'], dtype='object')\n",
      "retail_value    0.281779\n",
      "length          4.170379\n",
      "difficulty     -0.388037\n",
      "dtype: float64\n"
     ]
    }
   ],
   "source": [
    "nf = num.drop(['customer_id', 'product_id', 'quantity_purchased', 'cost_to_buy'], axis=1).columns\n",
    "print(nf)\n",
    "print(train[nf].skew())"
   ]
  },
  {
   "cell_type": "code",
   "execution_count": 12,
   "metadata": {},
   "outputs": [
    {
     "name": "stdout",
     "output_type": "stream",
     "text": [
      "retail_value    0.274114\n",
      "length          4.070674\n",
      "difficulty     -0.380050\n",
      "dtype: float64\n"
     ]
    }
   ],
   "source": [
    "print(test[nf].skew())"
   ]
  },
  {
   "cell_type": "code",
   "execution_count": 13,
   "metadata": {},
   "outputs": [
    {
     "name": "stdout",
     "output_type": "stream",
     "text": [
      "train:     customer_id  product_id  purchased  quantity_purchased  cost_to_buy  \\\n",
      "0      1000078     1730073      False                  81         1.74   \n",
      "1      1000078     1470520      False                  99         1.92   \n",
      "2      1000078     1861356      False                  65         1.98   \n",
      "3      1000078     1240824       True                  52         2.21   \n",
      "4      1000078     1155460      False                  53         1.78   \n",
      "\n",
      "   retail_value    length  difficulty  fiction     genre age_bucket  \\\n",
      "0      0.298876  0.000117    0.833333     True     Drama      46-55   \n",
      "1      0.571536  0.000832    1.000000     True   Romance      46-55   \n",
      "2      0.313858  0.000054    0.000000     True  Thriller      46-55   \n",
      "3      0.698127  0.000352    0.333333     True   Classic      46-55   \n",
      "4      0.585019  0.000808    0.333333     True  Thriller      46-55   \n",
      "\n",
      "   is_returning_customer                                    favorite_genres  \n",
      "0                   True  ['Classic', 'History', 'Self-Help', 'Romance',...  \n",
      "1                   True  ['Classic', 'History', 'Self-Help', 'Romance',...  \n",
      "2                   True  ['Classic', 'History', 'Self-Help', 'Romance',...  \n",
      "3                   True  ['Classic', 'History', 'Self-Help', 'Romance',...  \n",
      "4                   True  ['Classic', 'History', 'Self-Help', 'Romance',...   (36000, 13)\n",
      "test:     customer_id  product_id  quantity_purchased  cost_to_buy  retail_value  \\\n",
      "0      1600785     1443029                  71         2.27      0.498876   \n",
      "1      1600785     1164138                  97         2.23      0.591011   \n",
      "2      1600785     1636511                  51         1.61      0.340824   \n",
      "3      1600785     1832547                  95         2.09      0.552809   \n",
      "4      1600785     1237420                  57         1.24      0.235955   \n",
      "\n",
      "     length  difficulty  fiction       genre age_bucket  \\\n",
      "0  0.000164    0.333333     True      Sci-Fi      56-65   \n",
      "1  0.000647    0.500000     True      Sci-Fi      56-65   \n",
      "2  0.000176    0.333333     True       Drama      56-65   \n",
      "3  0.000166    0.500000     True  Beach-Read      56-65   \n",
      "4  0.000269    1.000000    False   Self-Help      56-65   \n",
      "\n",
      "   is_returning_customer                                    favorite_genres  \n",
      "0                  False  ['Romance', 'Biography', 'Classic', 'Pop-Psych...  \n",
      "1                  False  ['Romance', 'Biography', 'Classic', 'Pop-Psych...  \n",
      "2                  False  ['Romance', 'Biography', 'Classic', 'Pop-Psych...  \n",
      "3                  False  ['Romance', 'Biography', 'Classic', 'Pop-Psych...  \n",
      "4                  False  ['Romance', 'Biography', 'Classic', 'Pop-Psych...   (56400, 12)\n"
     ]
    },
    {
     "name": "stderr",
     "output_type": "stream",
     "text": [
      "C:\\Users\\Osula\\Anaconda2\\envs\\python35\\lib\\site-packages\\sklearn\\preprocessing\\data.py:986: DeprecationWarning: Passing 1d arrays as data is deprecated in 0.17 and will raise ValueError in 0.19. Reshape your data either using X.reshape(-1, 1) if your data has a single feature or X.reshape(1, -1) if it contains a single sample.\n",
      "  warnings.warn(DEPRECATION_MSG_1D, DeprecationWarning)\n",
      "C:\\Users\\Osula\\Anaconda2\\envs\\python35\\lib\\site-packages\\sklearn\\preprocessing\\data.py:1008: DeprecationWarning: Passing 1d arrays as data is deprecated in 0.17 and will raise ValueError in 0.19. Reshape your data either using X.reshape(-1, 1) if your data has a single feature or X.reshape(1, -1) if it contains a single sample.\n",
      "  warnings.warn(DEPRECATION_MSG_1D, DeprecationWarning)\n",
      "C:\\Users\\Osula\\Anaconda2\\envs\\python35\\lib\\site-packages\\sklearn\\preprocessing\\data.py:986: DeprecationWarning: Passing 1d arrays as data is deprecated in 0.17 and will raise ValueError in 0.19. Reshape your data either using X.reshape(-1, 1) if your data has a single feature or X.reshape(1, -1) if it contains a single sample.\n",
      "  warnings.warn(DEPRECATION_MSG_1D, DeprecationWarning)\n",
      "C:\\Users\\Osula\\Anaconda2\\envs\\python35\\lib\\site-packages\\sklearn\\preprocessing\\data.py:1037: DeprecationWarning: Passing 1d arrays as data is deprecated in 0.17 and will raise ValueError in 0.19. Reshape your data either using X.reshape(-1, 1) if your data has a single feature or X.reshape(1, -1) if it contains a single sample.\n",
      "  warnings.warn(DEPRECATION_MSG_1D, DeprecationWarning)\n",
      "C:\\Users\\Osula\\Anaconda2\\envs\\python35\\lib\\site-packages\\sklearn\\preprocessing\\data.py:321: DeprecationWarning: Passing 1d arrays as data is deprecated in 0.17 and will raise ValueError in 0.19. Reshape your data either using X.reshape(-1, 1) if your data has a single feature or X.reshape(1, -1) if it contains a single sample.\n",
      "  warnings.warn(DEPRECATION_MSG_1D, DeprecationWarning)\n",
      "C:\\Users\\Osula\\Anaconda2\\envs\\python35\\lib\\site-packages\\sklearn\\preprocessing\\data.py:986: DeprecationWarning: Passing 1d arrays as data is deprecated in 0.17 and will raise ValueError in 0.19. Reshape your data either using X.reshape(-1, 1) if your data has a single feature or X.reshape(1, -1) if it contains a single sample.\n",
      "  warnings.warn(DEPRECATION_MSG_1D, DeprecationWarning)\n",
      "C:\\Users\\Osula\\Anaconda2\\envs\\python35\\lib\\site-packages\\sklearn\\preprocessing\\data.py:1037: DeprecationWarning: Passing 1d arrays as data is deprecated in 0.17 and will raise ValueError in 0.19. Reshape your data either using X.reshape(-1, 1) if your data has a single feature or X.reshape(1, -1) if it contains a single sample.\n",
      "  warnings.warn(DEPRECATION_MSG_1D, DeprecationWarning)\n",
      "C:\\Users\\Osula\\Anaconda2\\envs\\python35\\lib\\site-packages\\sklearn\\preprocessing\\data.py:356: DeprecationWarning: Passing 1d arrays as data is deprecated in 0.17 and will raise ValueError in 0.19. Reshape your data either using X.reshape(-1, 1) if your data has a single feature or X.reshape(1, -1) if it contains a single sample.\n",
      "  warnings.warn(DEPRECATION_MSG_1D, DeprecationWarning)\n",
      "C:\\Users\\Osula\\Anaconda2\\envs\\python35\\lib\\site-packages\\sklearn\\preprocessing\\data.py:986: DeprecationWarning: Passing 1d arrays as data is deprecated in 0.17 and will raise ValueError in 0.19. Reshape your data either using X.reshape(-1, 1) if your data has a single feature or X.reshape(1, -1) if it contains a single sample.\n",
      "  warnings.warn(DEPRECATION_MSG_1D, DeprecationWarning)\n",
      "C:\\Users\\Osula\\Anaconda2\\envs\\python35\\lib\\site-packages\\sklearn\\preprocessing\\data.py:1037: DeprecationWarning: Passing 1d arrays as data is deprecated in 0.17 and will raise ValueError in 0.19. Reshape your data either using X.reshape(-1, 1) if your data has a single feature or X.reshape(1, -1) if it contains a single sample.\n",
      "  warnings.warn(DEPRECATION_MSG_1D, DeprecationWarning)\n",
      "C:\\Users\\Osula\\Anaconda2\\envs\\python35\\lib\\site-packages\\sklearn\\preprocessing\\data.py:356: DeprecationWarning: Passing 1d arrays as data is deprecated in 0.17 and will raise ValueError in 0.19. Reshape your data either using X.reshape(-1, 1) if your data has a single feature or X.reshape(1, -1) if it contains a single sample.\n",
      "  warnings.warn(DEPRECATION_MSG_1D, DeprecationWarning)\n",
      "C:\\Users\\Osula\\Anaconda2\\envs\\python35\\lib\\site-packages\\sklearn\\preprocessing\\data.py:986: DeprecationWarning: Passing 1d arrays as data is deprecated in 0.17 and will raise ValueError in 0.19. Reshape your data either using X.reshape(-1, 1) if your data has a single feature or X.reshape(1, -1) if it contains a single sample.\n",
      "  warnings.warn(DEPRECATION_MSG_1D, DeprecationWarning)\n",
      "C:\\Users\\Osula\\Anaconda2\\envs\\python35\\lib\\site-packages\\sklearn\\preprocessing\\data.py:1008: DeprecationWarning: Passing 1d arrays as data is deprecated in 0.17 and will raise ValueError in 0.19. Reshape your data either using X.reshape(-1, 1) if your data has a single feature or X.reshape(1, -1) if it contains a single sample.\n",
      "  warnings.warn(DEPRECATION_MSG_1D, DeprecationWarning)\n",
      "C:\\Users\\Osula\\Anaconda2\\envs\\python35\\lib\\site-packages\\sklearn\\preprocessing\\data.py:986: DeprecationWarning: Passing 1d arrays as data is deprecated in 0.17 and will raise ValueError in 0.19. Reshape your data either using X.reshape(-1, 1) if your data has a single feature or X.reshape(1, -1) if it contains a single sample.\n",
      "  warnings.warn(DEPRECATION_MSG_1D, DeprecationWarning)\n",
      "C:\\Users\\Osula\\Anaconda2\\envs\\python35\\lib\\site-packages\\sklearn\\preprocessing\\data.py:1037: DeprecationWarning: Passing 1d arrays as data is deprecated in 0.17 and will raise ValueError in 0.19. Reshape your data either using X.reshape(-1, 1) if your data has a single feature or X.reshape(1, -1) if it contains a single sample.\n",
      "  warnings.warn(DEPRECATION_MSG_1D, DeprecationWarning)\n",
      "C:\\Users\\Osula\\Anaconda2\\envs\\python35\\lib\\site-packages\\sklearn\\preprocessing\\data.py:321: DeprecationWarning: Passing 1d arrays as data is deprecated in 0.17 and will raise ValueError in 0.19. Reshape your data either using X.reshape(-1, 1) if your data has a single feature or X.reshape(1, -1) if it contains a single sample.\n",
      "  warnings.warn(DEPRECATION_MSG_1D, DeprecationWarning)\n",
      "C:\\Users\\Osula\\Anaconda2\\envs\\python35\\lib\\site-packages\\sklearn\\preprocessing\\data.py:986: DeprecationWarning: Passing 1d arrays as data is deprecated in 0.17 and will raise ValueError in 0.19. Reshape your data either using X.reshape(-1, 1) if your data has a single feature or X.reshape(1, -1) if it contains a single sample.\n",
      "  warnings.warn(DEPRECATION_MSG_1D, DeprecationWarning)\n",
      "C:\\Users\\Osula\\Anaconda2\\envs\\python35\\lib\\site-packages\\sklearn\\preprocessing\\data.py:1037: DeprecationWarning: Passing 1d arrays as data is deprecated in 0.17 and will raise ValueError in 0.19. Reshape your data either using X.reshape(-1, 1) if your data has a single feature or X.reshape(1, -1) if it contains a single sample.\n",
      "  warnings.warn(DEPRECATION_MSG_1D, DeprecationWarning)\n",
      "C:\\Users\\Osula\\Anaconda2\\envs\\python35\\lib\\site-packages\\sklearn\\preprocessing\\data.py:356: DeprecationWarning: Passing 1d arrays as data is deprecated in 0.17 and will raise ValueError in 0.19. Reshape your data either using X.reshape(-1, 1) if your data has a single feature or X.reshape(1, -1) if it contains a single sample.\n",
      "  warnings.warn(DEPRECATION_MSG_1D, DeprecationWarning)\n",
      "C:\\Users\\Osula\\Anaconda2\\envs\\python35\\lib\\site-packages\\sklearn\\preprocessing\\data.py:986: DeprecationWarning: Passing 1d arrays as data is deprecated in 0.17 and will raise ValueError in 0.19. Reshape your data either using X.reshape(-1, 1) if your data has a single feature or X.reshape(1, -1) if it contains a single sample.\n",
      "  warnings.warn(DEPRECATION_MSG_1D, DeprecationWarning)\n",
      "C:\\Users\\Osula\\Anaconda2\\envs\\python35\\lib\\site-packages\\sklearn\\preprocessing\\data.py:1037: DeprecationWarning: Passing 1d arrays as data is deprecated in 0.17 and will raise ValueError in 0.19. Reshape your data either using X.reshape(-1, 1) if your data has a single feature or X.reshape(1, -1) if it contains a single sample.\n",
      "  warnings.warn(DEPRECATION_MSG_1D, DeprecationWarning)\n",
      "C:\\Users\\Osula\\Anaconda2\\envs\\python35\\lib\\site-packages\\sklearn\\preprocessing\\data.py:356: DeprecationWarning: Passing 1d arrays as data is deprecated in 0.17 and will raise ValueError in 0.19. Reshape your data either using X.reshape(-1, 1) if your data has a single feature or X.reshape(1, -1) if it contains a single sample.\n",
      "  warnings.warn(DEPRECATION_MSG_1D, DeprecationWarning)\n",
      "C:\\Users\\Osula\\Anaconda2\\envs\\python35\\lib\\site-packages\\sklearn\\preprocessing\\data.py:986: DeprecationWarning: Passing 1d arrays as data is deprecated in 0.17 and will raise ValueError in 0.19. Reshape your data either using X.reshape(-1, 1) if your data has a single feature or X.reshape(1, -1) if it contains a single sample.\n",
      "  warnings.warn(DEPRECATION_MSG_1D, DeprecationWarning)\n",
      "C:\\Users\\Osula\\Anaconda2\\envs\\python35\\lib\\site-packages\\sklearn\\preprocessing\\data.py:1008: DeprecationWarning: Passing 1d arrays as data is deprecated in 0.17 and will raise ValueError in 0.19. Reshape your data either using X.reshape(-1, 1) if your data has a single feature or X.reshape(1, -1) if it contains a single sample.\n",
      "  warnings.warn(DEPRECATION_MSG_1D, DeprecationWarning)\n",
      "C:\\Users\\Osula\\Anaconda2\\envs\\python35\\lib\\site-packages\\sklearn\\preprocessing\\data.py:986: DeprecationWarning: Passing 1d arrays as data is deprecated in 0.17 and will raise ValueError in 0.19. Reshape your data either using X.reshape(-1, 1) if your data has a single feature or X.reshape(1, -1) if it contains a single sample.\n",
      "  warnings.warn(DEPRECATION_MSG_1D, DeprecationWarning)\n",
      "C:\\Users\\Osula\\Anaconda2\\envs\\python35\\lib\\site-packages\\sklearn\\preprocessing\\data.py:1037: DeprecationWarning: Passing 1d arrays as data is deprecated in 0.17 and will raise ValueError in 0.19. Reshape your data either using X.reshape(-1, 1) if your data has a single feature or X.reshape(1, -1) if it contains a single sample.\n",
      "  warnings.warn(DEPRECATION_MSG_1D, DeprecationWarning)\n",
      "C:\\Users\\Osula\\Anaconda2\\envs\\python35\\lib\\site-packages\\sklearn\\preprocessing\\data.py:321: DeprecationWarning: Passing 1d arrays as data is deprecated in 0.17 and will raise ValueError in 0.19. Reshape your data either using X.reshape(-1, 1) if your data has a single feature or X.reshape(1, -1) if it contains a single sample.\n",
      "  warnings.warn(DEPRECATION_MSG_1D, DeprecationWarning)\n",
      "C:\\Users\\Osula\\Anaconda2\\envs\\python35\\lib\\site-packages\\sklearn\\preprocessing\\data.py:986: DeprecationWarning: Passing 1d arrays as data is deprecated in 0.17 and will raise ValueError in 0.19. Reshape your data either using X.reshape(-1, 1) if your data has a single feature or X.reshape(1, -1) if it contains a single sample.\n",
      "  warnings.warn(DEPRECATION_MSG_1D, DeprecationWarning)\n",
      "C:\\Users\\Osula\\Anaconda2\\envs\\python35\\lib\\site-packages\\sklearn\\preprocessing\\data.py:1037: DeprecationWarning: Passing 1d arrays as data is deprecated in 0.17 and will raise ValueError in 0.19. Reshape your data either using X.reshape(-1, 1) if your data has a single feature or X.reshape(1, -1) if it contains a single sample.\n",
      "  warnings.warn(DEPRECATION_MSG_1D, DeprecationWarning)\n",
      "C:\\Users\\Osula\\Anaconda2\\envs\\python35\\lib\\site-packages\\sklearn\\preprocessing\\data.py:356: DeprecationWarning: Passing 1d arrays as data is deprecated in 0.17 and will raise ValueError in 0.19. Reshape your data either using X.reshape(-1, 1) if your data has a single feature or X.reshape(1, -1) if it contains a single sample.\n",
      "  warnings.warn(DEPRECATION_MSG_1D, DeprecationWarning)\n",
      "C:\\Users\\Osula\\Anaconda2\\envs\\python35\\lib\\site-packages\\sklearn\\preprocessing\\data.py:986: DeprecationWarning: Passing 1d arrays as data is deprecated in 0.17 and will raise ValueError in 0.19. Reshape your data either using X.reshape(-1, 1) if your data has a single feature or X.reshape(1, -1) if it contains a single sample.\n",
      "  warnings.warn(DEPRECATION_MSG_1D, DeprecationWarning)\n",
      "C:\\Users\\Osula\\Anaconda2\\envs\\python35\\lib\\site-packages\\sklearn\\preprocessing\\data.py:1037: DeprecationWarning: Passing 1d arrays as data is deprecated in 0.17 and will raise ValueError in 0.19. Reshape your data either using X.reshape(-1, 1) if your data has a single feature or X.reshape(1, -1) if it contains a single sample.\n",
      "  warnings.warn(DEPRECATION_MSG_1D, DeprecationWarning)\n",
      "C:\\Users\\Osula\\Anaconda2\\envs\\python35\\lib\\site-packages\\sklearn\\preprocessing\\data.py:356: DeprecationWarning: Passing 1d arrays as data is deprecated in 0.17 and will raise ValueError in 0.19. Reshape your data either using X.reshape(-1, 1) if your data has a single feature or X.reshape(1, -1) if it contains a single sample.\n",
      "  warnings.warn(DEPRECATION_MSG_1D, DeprecationWarning)\n"
     ]
    }
   ],
   "source": [
    "for n in train[nf].columns:\n",
    "    robust = preprocessing.RobustScaler()\n",
    "    minmax = preprocessing.MinMaxScaler()\n",
    "    rob_mm = pipeline.Pipeline([('robust', robust), ('minmax', minmax)])\n",
    "    rob_mm.fit(list(train[n].values) + list(test[n].values))\n",
    "    train[n] = rob_mm.transform(list(train[n].values))\n",
    "    test[n] = rob_mm.transform(list(test[n].values))\n",
    "    \n",
    "print('train: ', train.head(), train.shape)\n",
    "print('test: ', test.head(), test.shape)"
   ]
  },
  {
   "cell_type": "code",
   "execution_count": 14,
   "metadata": {},
   "outputs": [
    {
     "data": {
      "text/html": [
       "<div>\n",
       "<style>\n",
       "    .dataframe thead tr:only-child th {\n",
       "        text-align: right;\n",
       "    }\n",
       "\n",
       "    .dataframe thead th {\n",
       "        text-align: left;\n",
       "    }\n",
       "\n",
       "    .dataframe tbody tr th {\n",
       "        vertical-align: top;\n",
       "    }\n",
       "</style>\n",
       "<table border=\"1\" class=\"dataframe\">\n",
       "  <thead>\n",
       "    <tr style=\"text-align: right;\">\n",
       "      <th></th>\n",
       "      <th>customer_id</th>\n",
       "      <th>product_id</th>\n",
       "      <th>quantity_purchased</th>\n",
       "      <th>cost_to_buy</th>\n",
       "      <th>retail_value</th>\n",
       "      <th>length</th>\n",
       "      <th>difficulty</th>\n",
       "      <th>fiction</th>\n",
       "      <th>genre</th>\n",
       "      <th>age_bucket</th>\n",
       "      <th>is_returning_customer</th>\n",
       "      <th>favorite_genres</th>\n",
       "    </tr>\n",
       "  </thead>\n",
       "  <tbody>\n",
       "    <tr>\n",
       "      <th>0</th>\n",
       "      <td>1600785</td>\n",
       "      <td>1443029</td>\n",
       "      <td>71</td>\n",
       "      <td>2.27</td>\n",
       "      <td>0.498876</td>\n",
       "      <td>0.000164</td>\n",
       "      <td>0.333333</td>\n",
       "      <td>1</td>\n",
       "      <td>Sci-Fi</td>\n",
       "      <td>56-65</td>\n",
       "      <td>False</td>\n",
       "      <td>['Romance', 'Biography', 'Classic', 'Pop-Psych...</td>\n",
       "    </tr>\n",
       "    <tr>\n",
       "      <th>1</th>\n",
       "      <td>1600785</td>\n",
       "      <td>1164138</td>\n",
       "      <td>97</td>\n",
       "      <td>2.23</td>\n",
       "      <td>0.591011</td>\n",
       "      <td>0.000647</td>\n",
       "      <td>0.500000</td>\n",
       "      <td>1</td>\n",
       "      <td>Sci-Fi</td>\n",
       "      <td>56-65</td>\n",
       "      <td>False</td>\n",
       "      <td>['Romance', 'Biography', 'Classic', 'Pop-Psych...</td>\n",
       "    </tr>\n",
       "    <tr>\n",
       "      <th>2</th>\n",
       "      <td>1600785</td>\n",
       "      <td>1636511</td>\n",
       "      <td>51</td>\n",
       "      <td>1.61</td>\n",
       "      <td>0.340824</td>\n",
       "      <td>0.000176</td>\n",
       "      <td>0.333333</td>\n",
       "      <td>1</td>\n",
       "      <td>Drama</td>\n",
       "      <td>56-65</td>\n",
       "      <td>False</td>\n",
       "      <td>['Romance', 'Biography', 'Classic', 'Pop-Psych...</td>\n",
       "    </tr>\n",
       "    <tr>\n",
       "      <th>3</th>\n",
       "      <td>1600785</td>\n",
       "      <td>1832547</td>\n",
       "      <td>95</td>\n",
       "      <td>2.09</td>\n",
       "      <td>0.552809</td>\n",
       "      <td>0.000166</td>\n",
       "      <td>0.500000</td>\n",
       "      <td>1</td>\n",
       "      <td>Beach-Read</td>\n",
       "      <td>56-65</td>\n",
       "      <td>False</td>\n",
       "      <td>['Romance', 'Biography', 'Classic', 'Pop-Psych...</td>\n",
       "    </tr>\n",
       "    <tr>\n",
       "      <th>4</th>\n",
       "      <td>1600785</td>\n",
       "      <td>1237420</td>\n",
       "      <td>57</td>\n",
       "      <td>1.24</td>\n",
       "      <td>0.235955</td>\n",
       "      <td>0.000269</td>\n",
       "      <td>1.000000</td>\n",
       "      <td>0</td>\n",
       "      <td>Self-Help</td>\n",
       "      <td>56-65</td>\n",
       "      <td>False</td>\n",
       "      <td>['Romance', 'Biography', 'Classic', 'Pop-Psych...</td>\n",
       "    </tr>\n",
       "  </tbody>\n",
       "</table>\n",
       "</div>"
      ],
      "text/plain": [
       "   customer_id  product_id  quantity_purchased  cost_to_buy  retail_value  \\\n",
       "0      1600785     1443029                  71         2.27      0.498876   \n",
       "1      1600785     1164138                  97         2.23      0.591011   \n",
       "2      1600785     1636511                  51         1.61      0.340824   \n",
       "3      1600785     1832547                  95         2.09      0.552809   \n",
       "4      1600785     1237420                  57         1.24      0.235955   \n",
       "\n",
       "     length  difficulty  fiction       genre age_bucket  \\\n",
       "0  0.000164    0.333333        1      Sci-Fi      56-65   \n",
       "1  0.000647    0.500000        1      Sci-Fi      56-65   \n",
       "2  0.000176    0.333333        1       Drama      56-65   \n",
       "3  0.000166    0.500000        1  Beach-Read      56-65   \n",
       "4  0.000269    1.000000        0   Self-Help      56-65   \n",
       "\n",
       "   is_returning_customer                                    favorite_genres  \n",
       "0                  False  ['Romance', 'Biography', 'Classic', 'Pop-Psych...  \n",
       "1                  False  ['Romance', 'Biography', 'Classic', 'Pop-Psych...  \n",
       "2                  False  ['Romance', 'Biography', 'Classic', 'Pop-Psych...  \n",
       "3                  False  ['Romance', 'Biography', 'Classic', 'Pop-Psych...  \n",
       "4                  False  ['Romance', 'Biography', 'Classic', 'Pop-Psych...  "
      ]
     },
     "execution_count": 14,
     "metadata": {},
     "output_type": "execute_result"
    }
   ],
   "source": [
    "# Fiction: True = 1 & False = 0\n",
    "label_encoder = preprocessing.LabelEncoder()\n",
    "label_encoder.fit(list(train['fiction'].values)+list(test['fiction'].values))\n",
    "train['fiction'] = label_encoder.transform(list(train['fiction'].values))\n",
    "test['fiction'] = label_encoder.transform(list(test['fiction'].values))\n",
    "test.head()"
   ]
  },
  {
   "cell_type": "code",
   "execution_count": 15,
   "metadata": {},
   "outputs": [
    {
     "data": {
      "text/html": [
       "<div>\n",
       "<style>\n",
       "    .dataframe thead tr:only-child th {\n",
       "        text-align: right;\n",
       "    }\n",
       "\n",
       "    .dataframe thead th {\n",
       "        text-align: left;\n",
       "    }\n",
       "\n",
       "    .dataframe tbody tr th {\n",
       "        vertical-align: top;\n",
       "    }\n",
       "</style>\n",
       "<table border=\"1\" class=\"dataframe\">\n",
       "  <thead>\n",
       "    <tr style=\"text-align: right;\">\n",
       "      <th></th>\n",
       "      <th>customer_id</th>\n",
       "      <th>product_id</th>\n",
       "      <th>purchased</th>\n",
       "      <th>quantity_purchased</th>\n",
       "      <th>cost_to_buy</th>\n",
       "      <th>retail_value</th>\n",
       "      <th>length</th>\n",
       "      <th>difficulty</th>\n",
       "      <th>fiction</th>\n",
       "      <th>genre</th>\n",
       "      <th>age_bucket</th>\n",
       "      <th>is_returning_customer</th>\n",
       "      <th>favorite_genres</th>\n",
       "    </tr>\n",
       "  </thead>\n",
       "  <tbody>\n",
       "    <tr>\n",
       "      <th>0</th>\n",
       "      <td>1000078</td>\n",
       "      <td>1730073</td>\n",
       "      <td>0</td>\n",
       "      <td>81</td>\n",
       "      <td>1.74</td>\n",
       "      <td>0.298876</td>\n",
       "      <td>0.000117</td>\n",
       "      <td>0.833333</td>\n",
       "      <td>1</td>\n",
       "      <td>Drama</td>\n",
       "      <td>46-55</td>\n",
       "      <td>True</td>\n",
       "      <td>['Classic', 'History', 'Self-Help', 'Romance',...</td>\n",
       "    </tr>\n",
       "    <tr>\n",
       "      <th>1</th>\n",
       "      <td>1000078</td>\n",
       "      <td>1470520</td>\n",
       "      <td>0</td>\n",
       "      <td>99</td>\n",
       "      <td>1.92</td>\n",
       "      <td>0.571536</td>\n",
       "      <td>0.000832</td>\n",
       "      <td>1.000000</td>\n",
       "      <td>1</td>\n",
       "      <td>Romance</td>\n",
       "      <td>46-55</td>\n",
       "      <td>True</td>\n",
       "      <td>['Classic', 'History', 'Self-Help', 'Romance',...</td>\n",
       "    </tr>\n",
       "    <tr>\n",
       "      <th>2</th>\n",
       "      <td>1000078</td>\n",
       "      <td>1861356</td>\n",
       "      <td>0</td>\n",
       "      <td>65</td>\n",
       "      <td>1.98</td>\n",
       "      <td>0.313858</td>\n",
       "      <td>0.000054</td>\n",
       "      <td>0.000000</td>\n",
       "      <td>1</td>\n",
       "      <td>Thriller</td>\n",
       "      <td>46-55</td>\n",
       "      <td>True</td>\n",
       "      <td>['Classic', 'History', 'Self-Help', 'Romance',...</td>\n",
       "    </tr>\n",
       "    <tr>\n",
       "      <th>3</th>\n",
       "      <td>1000078</td>\n",
       "      <td>1240824</td>\n",
       "      <td>1</td>\n",
       "      <td>52</td>\n",
       "      <td>2.21</td>\n",
       "      <td>0.698127</td>\n",
       "      <td>0.000352</td>\n",
       "      <td>0.333333</td>\n",
       "      <td>1</td>\n",
       "      <td>Classic</td>\n",
       "      <td>46-55</td>\n",
       "      <td>True</td>\n",
       "      <td>['Classic', 'History', 'Self-Help', 'Romance',...</td>\n",
       "    </tr>\n",
       "    <tr>\n",
       "      <th>4</th>\n",
       "      <td>1000078</td>\n",
       "      <td>1155460</td>\n",
       "      <td>0</td>\n",
       "      <td>53</td>\n",
       "      <td>1.78</td>\n",
       "      <td>0.585019</td>\n",
       "      <td>0.000808</td>\n",
       "      <td>0.333333</td>\n",
       "      <td>1</td>\n",
       "      <td>Thriller</td>\n",
       "      <td>46-55</td>\n",
       "      <td>True</td>\n",
       "      <td>['Classic', 'History', 'Self-Help', 'Romance',...</td>\n",
       "    </tr>\n",
       "  </tbody>\n",
       "</table>\n",
       "</div>"
      ],
      "text/plain": [
       "   customer_id  product_id  purchased  quantity_purchased  cost_to_buy  \\\n",
       "0      1000078     1730073          0                  81         1.74   \n",
       "1      1000078     1470520          0                  99         1.92   \n",
       "2      1000078     1861356          0                  65         1.98   \n",
       "3      1000078     1240824          1                  52         2.21   \n",
       "4      1000078     1155460          0                  53         1.78   \n",
       "\n",
       "   retail_value    length  difficulty  fiction     genre age_bucket  \\\n",
       "0      0.298876  0.000117    0.833333        1     Drama      46-55   \n",
       "1      0.571536  0.000832    1.000000        1   Romance      46-55   \n",
       "2      0.313858  0.000054    0.000000        1  Thriller      46-55   \n",
       "3      0.698127  0.000352    0.333333        1   Classic      46-55   \n",
       "4      0.585019  0.000808    0.333333        1  Thriller      46-55   \n",
       "\n",
       "   is_returning_customer                                    favorite_genres  \n",
       "0                   True  ['Classic', 'History', 'Self-Help', 'Romance',...  \n",
       "1                   True  ['Classic', 'History', 'Self-Help', 'Romance',...  \n",
       "2                   True  ['Classic', 'History', 'Self-Help', 'Romance',...  \n",
       "3                   True  ['Classic', 'History', 'Self-Help', 'Romance',...  \n",
       "4                   True  ['Classic', 'History', 'Self-Help', 'Romance',...  "
      ]
     },
     "execution_count": 15,
     "metadata": {},
     "output_type": "execute_result"
    }
   ],
   "source": [
    "# Purchased: True = 1 & False = 0\n",
    "train['purchased'] = label_encoder.fit_transform(list(train['purchased'].values))\n",
    "train.head()"
   ]
  },
  {
   "cell_type": "code",
   "execution_count": 16,
   "metadata": {},
   "outputs": [
    {
     "data": {
      "text/html": [
       "<div>\n",
       "<style>\n",
       "    .dataframe thead tr:only-child th {\n",
       "        text-align: right;\n",
       "    }\n",
       "\n",
       "    .dataframe thead th {\n",
       "        text-align: left;\n",
       "    }\n",
       "\n",
       "    .dataframe tbody tr th {\n",
       "        vertical-align: top;\n",
       "    }\n",
       "</style>\n",
       "<table border=\"1\" class=\"dataframe\">\n",
       "  <thead>\n",
       "    <tr style=\"text-align: right;\">\n",
       "      <th></th>\n",
       "      <th>customer_id</th>\n",
       "      <th>product_id</th>\n",
       "      <th>quantity_purchased</th>\n",
       "      <th>cost_to_buy</th>\n",
       "      <th>retail_value</th>\n",
       "      <th>length</th>\n",
       "      <th>difficulty</th>\n",
       "      <th>fiction</th>\n",
       "      <th>genre</th>\n",
       "      <th>age_bucket</th>\n",
       "      <th>is_returning_customer</th>\n",
       "      <th>favorite_genres</th>\n",
       "    </tr>\n",
       "  </thead>\n",
       "  <tbody>\n",
       "    <tr>\n",
       "      <th>0</th>\n",
       "      <td>1600785</td>\n",
       "      <td>1443029</td>\n",
       "      <td>71</td>\n",
       "      <td>2.27</td>\n",
       "      <td>0.498876</td>\n",
       "      <td>0.000164</td>\n",
       "      <td>0.333333</td>\n",
       "      <td>1</td>\n",
       "      <td>Sci-Fi</td>\n",
       "      <td>56-65</td>\n",
       "      <td>0</td>\n",
       "      <td>['Romance', 'Biography', 'Classic', 'Pop-Psych...</td>\n",
       "    </tr>\n",
       "    <tr>\n",
       "      <th>1</th>\n",
       "      <td>1600785</td>\n",
       "      <td>1164138</td>\n",
       "      <td>97</td>\n",
       "      <td>2.23</td>\n",
       "      <td>0.591011</td>\n",
       "      <td>0.000647</td>\n",
       "      <td>0.500000</td>\n",
       "      <td>1</td>\n",
       "      <td>Sci-Fi</td>\n",
       "      <td>56-65</td>\n",
       "      <td>0</td>\n",
       "      <td>['Romance', 'Biography', 'Classic', 'Pop-Psych...</td>\n",
       "    </tr>\n",
       "    <tr>\n",
       "      <th>2</th>\n",
       "      <td>1600785</td>\n",
       "      <td>1636511</td>\n",
       "      <td>51</td>\n",
       "      <td>1.61</td>\n",
       "      <td>0.340824</td>\n",
       "      <td>0.000176</td>\n",
       "      <td>0.333333</td>\n",
       "      <td>1</td>\n",
       "      <td>Drama</td>\n",
       "      <td>56-65</td>\n",
       "      <td>0</td>\n",
       "      <td>['Romance', 'Biography', 'Classic', 'Pop-Psych...</td>\n",
       "    </tr>\n",
       "    <tr>\n",
       "      <th>3</th>\n",
       "      <td>1600785</td>\n",
       "      <td>1832547</td>\n",
       "      <td>95</td>\n",
       "      <td>2.09</td>\n",
       "      <td>0.552809</td>\n",
       "      <td>0.000166</td>\n",
       "      <td>0.500000</td>\n",
       "      <td>1</td>\n",
       "      <td>Beach-Read</td>\n",
       "      <td>56-65</td>\n",
       "      <td>0</td>\n",
       "      <td>['Romance', 'Biography', 'Classic', 'Pop-Psych...</td>\n",
       "    </tr>\n",
       "    <tr>\n",
       "      <th>4</th>\n",
       "      <td>1600785</td>\n",
       "      <td>1237420</td>\n",
       "      <td>57</td>\n",
       "      <td>1.24</td>\n",
       "      <td>0.235955</td>\n",
       "      <td>0.000269</td>\n",
       "      <td>1.000000</td>\n",
       "      <td>0</td>\n",
       "      <td>Self-Help</td>\n",
       "      <td>56-65</td>\n",
       "      <td>0</td>\n",
       "      <td>['Romance', 'Biography', 'Classic', 'Pop-Psych...</td>\n",
       "    </tr>\n",
       "  </tbody>\n",
       "</table>\n",
       "</div>"
      ],
      "text/plain": [
       "   customer_id  product_id  quantity_purchased  cost_to_buy  retail_value  \\\n",
       "0      1600785     1443029                  71         2.27      0.498876   \n",
       "1      1600785     1164138                  97         2.23      0.591011   \n",
       "2      1600785     1636511                  51         1.61      0.340824   \n",
       "3      1600785     1832547                  95         2.09      0.552809   \n",
       "4      1600785     1237420                  57         1.24      0.235955   \n",
       "\n",
       "     length  difficulty  fiction       genre age_bucket  \\\n",
       "0  0.000164    0.333333        1      Sci-Fi      56-65   \n",
       "1  0.000647    0.500000        1      Sci-Fi      56-65   \n",
       "2  0.000176    0.333333        1       Drama      56-65   \n",
       "3  0.000166    0.500000        1  Beach-Read      56-65   \n",
       "4  0.000269    1.000000        0   Self-Help      56-65   \n",
       "\n",
       "   is_returning_customer                                    favorite_genres  \n",
       "0                      0  ['Romance', 'Biography', 'Classic', 'Pop-Psych...  \n",
       "1                      0  ['Romance', 'Biography', 'Classic', 'Pop-Psych...  \n",
       "2                      0  ['Romance', 'Biography', 'Classic', 'Pop-Psych...  \n",
       "3                      0  ['Romance', 'Biography', 'Classic', 'Pop-Psych...  \n",
       "4                      0  ['Romance', 'Biography', 'Classic', 'Pop-Psych...  "
      ]
     },
     "execution_count": 16,
     "metadata": {},
     "output_type": "execute_result"
    }
   ],
   "source": [
    "# Fiction: True = 1 & False = 0\n",
    "label_encoder.fit(list(train['is_returning_customer'].values)+list(test['is_returning_customer'].values))\n",
    "train['is_returning_customer'] = label_encoder.transform(list(train['is_returning_customer'].values))\n",
    "test['is_returning_customer'] = label_encoder.transform(list(test['is_returning_customer'].values))\n",
    "test.head()"
   ]
  },
  {
   "cell_type": "code",
   "execution_count": 17,
   "metadata": {},
   "outputs": [
    {
     "data": {
      "text/plain": [
       "Beach-Read        4451\n",
       "Romance           4283\n",
       "Thriller          3913\n",
       "Classic           3699\n",
       "Drama             3616\n",
       "Sci-Fi            3457\n",
       "Biography         2738\n",
       "Pop-Sci           2690\n",
       "Pop-Psychology    2630\n",
       "History           2514\n",
       "Self-Help         2009\n",
       "Name: genre, dtype: int64"
      ]
     },
     "execution_count": 17,
     "metadata": {},
     "output_type": "execute_result"
    }
   ],
   "source": [
    "train['genre'].value_counts()"
   ]
  },
  {
   "cell_type": "code",
   "execution_count": 18,
   "metadata": {},
   "outputs": [
    {
     "data": {
      "text/plain": [
       "46-55    8025\n",
       "56-65    6090\n",
       "36-45    6070\n",
       "26-35    5285\n",
       "66+      5115\n",
       "18-25    3555\n",
       "0-17      295\n",
       "Name: age_bucket, dtype: int64"
      ]
     },
     "execution_count": 18,
     "metadata": {},
     "output_type": "execute_result"
    }
   ],
   "source": [
    "train['age_bucket'].value_counts()"
   ]
  },
  {
   "cell_type": "code",
   "execution_count": 19,
   "metadata": {},
   "outputs": [
    {
     "data": {
      "text/plain": [
       "purchased  age_bucket  purchased\n",
       "0          0-17        0             217\n",
       "           18-25       0            2497\n",
       "           26-35       0            3370\n",
       "           36-45       0            3772\n",
       "           46-55       0            5077\n",
       "           56-65       0            3896\n",
       "           66+         0            3454\n",
       "1          0-17        1              78\n",
       "           18-25       1            1058\n",
       "           26-35       1            1915\n",
       "           36-45       1            2298\n",
       "           46-55       1            2948\n",
       "           56-65       1            2194\n",
       "           66+         1            1661\n",
       "Name: purchased, dtype: int64"
      ]
     },
     "execution_count": 19,
     "metadata": {},
     "output_type": "execute_result"
    }
   ],
   "source": [
    "train.groupby(['purchased', 'age_bucket'])['purchased'].value_counts()"
   ]
  },
  {
   "cell_type": "code",
   "execution_count": 20,
   "metadata": {},
   "outputs": [
    {
     "data": {
      "text/plain": [
       "4    8025\n",
       "5    6090\n",
       "3    6070\n",
       "2    5285\n",
       "6    5115\n",
       "1    3555\n",
       "7    1565\n",
       "0     295\n",
       "Name: age_bucket, dtype: int64"
      ]
     },
     "execution_count": 20,
     "metadata": {},
     "output_type": "execute_result"
    }
   ],
   "source": [
    "label_encoder.fit(list(train['age_bucket'].values)+list(test['age_bucket'].values))\n",
    "train['age_bucket'] = label_encoder.transform(list(train['age_bucket'].values))\n",
    "test['age_bucket'] = label_encoder.transform(list(test['age_bucket'].values))\n",
    "train['age_bucket'].value_counts()"
   ]
  },
  {
   "cell_type": "code",
   "execution_count": 21,
   "metadata": {},
   "outputs": [
    {
     "name": "stdout",
     "output_type": "stream",
     "text": [
      "train:     Beach-Read  Biography  Classic  Drama  History  Pop-Psychology  Pop-Sci  \\\n",
      "0           0          0        0      1        0               0        0   \n",
      "1           0          0        0      0        0               0        0   \n",
      "2           0          0        0      0        0               0        0   \n",
      "3           0          0        1      0        0               0        0   \n",
      "4           0          0        0      0        0               0        0   \n",
      "\n",
      "   Romance  Sci-Fi  Self-Help  Thriller  \n",
      "0        0       0          0         0  \n",
      "1        1       0          0         0  \n",
      "2        0       0          0         1  \n",
      "3        0       0          0         0  \n",
      "4        0       0          0         1   (36000, 11)\n",
      "test:     Beach-Read  Biography  Classic  Drama  History  Pop-Psychology  Pop-Sci  \\\n",
      "0           0          0        0      0        0               0        0   \n",
      "1           0          0        0      0        0               0        0   \n",
      "2           0          0        0      1        0               0        0   \n",
      "3           1          0        0      0        0               0        0   \n",
      "4           0          0        0      0        0               0        0   \n",
      "\n",
      "   Romance  Sci-Fi  Self-Help  Thriller  \n",
      "0        0       1          0         0  \n",
      "1        0       1          0         0  \n",
      "2        0       0          0         0  \n",
      "3        0       0          0         0  \n",
      "4        0       0          1         0   (56400, 11)\n"
     ]
    }
   ],
   "source": [
    "genre_dum = pd.get_dummies(train['genre'])\n",
    "genre_dumt = pd.get_dummies(test['genre'])\n",
    "print(\"train: \", genre_dum.head(), genre_dum.shape)\n",
    "print(\"test: \", genre_dumt.head(), genre_dumt.shape)"
   ]
  },
  {
   "cell_type": "code",
   "execution_count": 22,
   "metadata": {},
   "outputs": [
    {
     "name": "stdout",
     "output_type": "stream",
     "text": [
      "train:     customer_id  product_id  purchased  quantity_purchased  cost_to_buy  \\\n",
      "0      1000078     1730073          0                  81         1.74   \n",
      "1      1000078     1470520          0                  99         1.92   \n",
      "2      1000078     1861356          0                  65         1.98   \n",
      "3      1000078     1240824          1                  52         2.21   \n",
      "4      1000078     1155460          0                  53         1.78   \n",
      "\n",
      "   retail_value    length  difficulty  fiction     genre       ...        \\\n",
      "0      0.298876  0.000117    0.833333        1     Drama       ...         \n",
      "1      0.571536  0.000832    1.000000        1   Romance       ...         \n",
      "2      0.313858  0.000054    0.000000        1  Thriller       ...         \n",
      "3      0.698127  0.000352    0.333333        1   Classic       ...         \n",
      "4      0.585019  0.000808    0.333333        1  Thriller       ...         \n",
      "\n",
      "   genre_Biography  genre_Classic genre_Drama  genre_History  \\\n",
      "0                0              0           1              0   \n",
      "1                0              0           0              0   \n",
      "2                0              0           0              0   \n",
      "3                0              1           0              0   \n",
      "4                0              0           0              0   \n",
      "\n",
      "   genre_Pop-Psychology  genre_Pop-Sci  genre_Romance  genre_Sci-Fi  \\\n",
      "0                     0              0              0             0   \n",
      "1                     0              0              1             0   \n",
      "2                     0              0              0             0   \n",
      "3                     0              0              0             0   \n",
      "4                     0              0              0             0   \n",
      "\n",
      "   genre_Self-Help  genre_Thriller  \n",
      "0                0               0  \n",
      "1                0               0  \n",
      "2                0               1  \n",
      "3                0               0  \n",
      "4                0               1  \n",
      "\n",
      "[5 rows x 24 columns] (36000, 24)\n"
     ]
    }
   ],
   "source": [
    "# append dummies\n",
    "for i in genre_dum.columns:\n",
    "    train['genre_'+ str(i)] = genre_dum[i]\n",
    "    test['genre_'+ str(i)] = genre_dumt[i]\n",
    "\n",
    "print(\"train: \", train.head(), train.shape)"
   ]
  },
  {
   "cell_type": "markdown",
   "metadata": {},
   "source": [
    "### Impute missing age_bucket variable"
   ]
  },
  {
   "cell_type": "code",
   "execution_count": 23,
   "metadata": {},
   "outputs": [
    {
     "name": "stdout",
     "output_type": "stream",
     "text": [
      "   customer_id  product_id  purchased  quantity_purchased  cost_to_buy  \\\n",
      "0      1000078     1730073          0                  81         1.74   \n",
      "1      1000078     1470520          0                  99         1.92   \n",
      "2      1000078     1861356          0                  65         1.98   \n",
      "3      1000078     1240824          1                  52         2.21   \n",
      "4      1000078     1155460          0                  53         1.78   \n",
      "\n",
      "   retail_value    length  difficulty  fiction     genre       ...        \\\n",
      "0      0.298876  0.000117    0.833333        1     Drama       ...         \n",
      "1      0.571536  0.000832    1.000000        1   Romance       ...         \n",
      "2      0.313858  0.000054    0.000000        1  Thriller       ...         \n",
      "3      0.698127  0.000352    0.333333        1   Classic       ...         \n",
      "4      0.585019  0.000808    0.333333        1  Thriller       ...         \n",
      "\n",
      "   genre_Biography  genre_Classic genre_Drama  genre_History  \\\n",
      "0                0              0           1              0   \n",
      "1                0              0           0              0   \n",
      "2                0              0           0              0   \n",
      "3                0              1           0              0   \n",
      "4                0              0           0              0   \n",
      "\n",
      "   genre_Pop-Psychology  genre_Pop-Sci  genre_Romance  genre_Sci-Fi  \\\n",
      "0                     0              0              0             0   \n",
      "1                     0              0              1             0   \n",
      "2                     0              0              0             0   \n",
      "3                     0              0              0             0   \n",
      "4                     0              0              0             0   \n",
      "\n",
      "   genre_Self-Help  genre_Thriller  \n",
      "0                0               0  \n",
      "1                0               0  \n",
      "2                0               1  \n",
      "3                0               0  \n",
      "4                0               1  \n",
      "\n",
      "[5 rows x 24 columns] (34435, 24)\n",
      "Index(['customer_id', 'product_id', 'purchased', 'quantity_purchased',\n",
      "       'cost_to_buy', 'retail_value', 'length', 'difficulty', 'fiction',\n",
      "       'genre', 'age_bucket', 'is_returning_customer', 'favorite_genres',\n",
      "       'genre_Beach-Read', 'genre_Biography', 'genre_Classic', 'genre_Drama',\n",
      "       'genre_History', 'genre_Pop-Psychology', 'genre_Pop-Sci',\n",
      "       'genre_Romance', 'genre_Sci-Fi', 'genre_Self-Help', 'genre_Thriller'],\n",
      "      dtype='object')\n",
      "4    8025\n",
      "5    6090\n",
      "3    6070\n",
      "2    5285\n",
      "6    5115\n",
      "1    3555\n",
      "0     295\n",
      "Name: age_bucket, dtype: int64\n"
     ]
    }
   ],
   "source": [
    "# new dataframe containing rows with known ages\n",
    "new_train = train[~train.age_bucket.isin([7])]\n",
    "print(new_train.head(), new_train.shape)\n",
    "print(new_train.columns)\n",
    "print(new_train['age_bucket'].value_counts())"
   ]
  },
  {
   "cell_type": "code",
   "execution_count": 24,
   "metadata": {},
   "outputs": [
    {
     "name": "stdout",
     "output_type": "stream",
     "text": [
      "    customer_id  product_id  purchased  quantity_purchased  cost_to_buy  \\\n",
      "70      1001483     1529979          1                  79         1.82   \n",
      "71      1001483     1434159          0                  92         1.51   \n",
      "72      1001483     1298229          1                  76         2.19   \n",
      "73      1001483     1073542          0                  63         1.93   \n",
      "74      1001483     1560221          0                  67         2.32   \n",
      "\n",
      "    retail_value    length  difficulty  fiction           genre  \\\n",
      "70      0.379026  0.000591    0.666667        1          Sci-Fi   \n",
      "71      0.445693  0.000055    0.500000        0  Pop-Psychology   \n",
      "72      0.621723  0.000332    0.833333        1      Beach-Read   \n",
      "73      0.405243  0.000802    0.666667        1      Beach-Read   \n",
      "74      0.626966  0.000451    0.833333        1        Thriller   \n",
      "\n",
      "         ...        genre_Biography  genre_Classic genre_Drama  genre_History  \\\n",
      "70       ...                      0              0           0              0   \n",
      "71       ...                      0              0           0              0   \n",
      "72       ...                      0              0           0              0   \n",
      "73       ...                      0              0           0              0   \n",
      "74       ...                      0              0           0              0   \n",
      "\n",
      "    genre_Pop-Psychology  genre_Pop-Sci  genre_Romance  genre_Sci-Fi  \\\n",
      "70                     0              0              0             1   \n",
      "71                     1              0              0             0   \n",
      "72                     0              0              0             0   \n",
      "73                     0              0              0             0   \n",
      "74                     0              0              0             0   \n",
      "\n",
      "    genre_Self-Help  genre_Thriller  \n",
      "70                0               0  \n",
      "71                0               0  \n",
      "72                0               0  \n",
      "73                0               0  \n",
      "74                0               1  \n",
      "\n",
      "[5 rows x 24 columns]\n",
      "7    1565\n",
      "Name: age_bucket, dtype: int64\n"
     ]
    }
   ],
   "source": [
    "# new_train wil store all data with NaN in Age_Bucket\n",
    "df = train[train.age_bucket.isin([7])]\n",
    "print(df.head())\n",
    "print(df['age_bucket'].value_counts())"
   ]
  },
  {
   "cell_type": "code",
   "execution_count": 25,
   "metadata": {},
   "outputs": [
    {
     "name": "stdout",
     "output_type": "stream",
     "text": [
      "   customer_id  product_id  quantity_purchased  cost_to_buy  retail_value  \\\n",
      "0      1600785     1443029                  71         2.27      0.498876   \n",
      "1      1600785     1164138                  97         2.23      0.591011   \n",
      "2      1600785     1636511                  51         1.61      0.340824   \n",
      "3      1600785     1832547                  95         2.09      0.552809   \n",
      "4      1600785     1237420                  57         1.24      0.235955   \n",
      "\n",
      "     length  difficulty  fiction       genre  age_bucket       ...        \\\n",
      "0  0.000164    0.333333        1      Sci-Fi           5       ...         \n",
      "1  0.000647    0.500000        1      Sci-Fi           5       ...         \n",
      "2  0.000176    0.333333        1       Drama           5       ...         \n",
      "3  0.000166    0.500000        1  Beach-Read           5       ...         \n",
      "4  0.000269    1.000000        0   Self-Help           5       ...         \n",
      "\n",
      "   genre_Biography genre_Classic  genre_Drama  genre_History  \\\n",
      "0                0             0            0              0   \n",
      "1                0             0            0              0   \n",
      "2                0             0            1              0   \n",
      "3                0             0            0              0   \n",
      "4                0             0            0              0   \n",
      "\n",
      "   genre_Pop-Psychology  genre_Pop-Sci  genre_Romance  genre_Sci-Fi  \\\n",
      "0                     0              0              0             1   \n",
      "1                     0              0              0             1   \n",
      "2                     0              0              0             0   \n",
      "3                     0              0              0             0   \n",
      "4                     0              0              0             0   \n",
      "\n",
      "   genre_Self-Help  genre_Thriller  \n",
      "0                0               0  \n",
      "1                0               0  \n",
      "2                0               0  \n",
      "3                0               0  \n",
      "4                1               0  \n",
      "\n",
      "[5 rows x 23 columns] (54065, 23)\n",
      "4    12780\n",
      "3    11320\n",
      "5    11315\n",
      "6    10430\n",
      "2     4720\n",
      "1     3240\n",
      "0      260\n",
      "Name: age_bucket, dtype: int64\n",
      "Index(['customer_id', 'product_id', 'quantity_purchased', 'cost_to_buy',\n",
      "       'retail_value', 'length', 'difficulty', 'fiction', 'genre',\n",
      "       'age_bucket', 'is_returning_customer', 'favorite_genres',\n",
      "       'genre_Beach-Read', 'genre_Biography', 'genre_Classic', 'genre_Drama',\n",
      "       'genre_History', 'genre_Pop-Psychology', 'genre_Pop-Sci',\n",
      "       'genre_Romance', 'genre_Sci-Fi', 'genre_Self-Help', 'genre_Thriller'],\n",
      "      dtype='object')\n"
     ]
    }
   ],
   "source": [
    "# new dataframe containing rows with known ages\n",
    "new_test = test[~test.age_bucket.isin([7])]\n",
    "print(new_test.head(), new_test.shape)\n",
    "print(new_test['age_bucket'].value_counts())\n",
    "print(new_test.columns)"
   ]
  },
  {
   "cell_type": "code",
   "execution_count": 26,
   "metadata": {},
   "outputs": [
    {
     "name": "stdout",
     "output_type": "stream",
     "text": [
      "     customer_id  product_id  quantity_purchased  cost_to_buy  retail_value  \\\n",
      "190      1602977     1087656                  69         1.25      0.208989   \n",
      "191      1602977     1322176                  69         1.59      0.423970   \n",
      "192      1602977     1707084                  54         1.26      0.119101   \n",
      "193      1602977     1726401                  54         2.08      0.465918   \n",
      "194      1602977     1151645                  99         1.24      0.286142   \n",
      "\n",
      "       length  difficulty  fiction           genre  age_bucket  \\\n",
      "190  0.000200    0.833333        0         Pop-Sci           7   \n",
      "191  0.000229    1.000000        1         Romance           7   \n",
      "192  0.000598    0.500000        0       Biography           7   \n",
      "193  0.000486    1.000000        1         Romance           7   \n",
      "194  0.000069    0.333333        0  Pop-Psychology           7   \n",
      "\n",
      "          ...        genre_Biography genre_Classic  genre_Drama  \\\n",
      "190       ...                      0             0            0   \n",
      "191       ...                      0             0            0   \n",
      "192       ...                      1             0            0   \n",
      "193       ...                      0             0            0   \n",
      "194       ...                      0             0            0   \n",
      "\n",
      "     genre_History  genre_Pop-Psychology  genre_Pop-Sci  genre_Romance  \\\n",
      "190              0                     0              1              0   \n",
      "191              0                     0              0              1   \n",
      "192              0                     0              0              0   \n",
      "193              0                     0              0              1   \n",
      "194              0                     1              0              0   \n",
      "\n",
      "     genre_Sci-Fi  genre_Self-Help  genre_Thriller  \n",
      "190             0                0               0  \n",
      "191             0                0               0  \n",
      "192             0                0               0  \n",
      "193             0                0               0  \n",
      "194             0                0               0  \n",
      "\n",
      "[5 rows x 23 columns]\n",
      "7    2335\n",
      "Name: age_bucket, dtype: int64\n"
     ]
    }
   ],
   "source": [
    "df_test = test[test.age_bucket.isin([7])]\n",
    "print(df_test.head())\n",
    "print(df_test['age_bucket'].value_counts())"
   ]
  },
  {
   "cell_type": "code",
   "execution_count": 27,
   "metadata": {},
   "outputs": [
    {
     "name": "stdout",
     "output_type": "stream",
     "text": [
      "[[  0.00000000e+00   2.98876404e-01   1.16954739e-04 ...,   0.00000000e+00\n",
      "    0.00000000e+00   0.00000000e+00]\n",
      " [  0.00000000e+00   5.71535581e-01   8.31678141e-04 ...,   0.00000000e+00\n",
      "    0.00000000e+00   0.00000000e+00]\n",
      " [  0.00000000e+00   3.13857678e-01   5.39791101e-05 ...,   0.00000000e+00\n",
      "    0.00000000e+00   1.00000000e+00]\n",
      " ..., \n",
      " [  1.00000000e+00   9.11610487e-01   6.42751255e-04 ...,   0.00000000e+00\n",
      "    0.00000000e+00   1.00000000e+00]\n",
      " [  0.00000000e+00   7.54307116e-01   6.74738876e-04 ...,   0.00000000e+00\n",
      "    0.00000000e+00   0.00000000e+00]\n",
      " [  1.00000000e+00   1.82771536e-01   6.80736555e-04 ...,   1.00000000e+00\n",
      "    0.00000000e+00   0.00000000e+00]] [4 4 4 ..., 3 3 3]\n",
      "Index(['purchased', 'retail_value', 'length', 'difficulty', 'fiction',\n",
      "       'is_returning_customer', 'genre_Biography', 'genre_Classic',\n",
      "       'genre_Drama', 'genre_History', 'genre_Pop-Psychology', 'genre_Pop-Sci',\n",
      "       'genre_Romance', 'genre_Sci-Fi', 'genre_Self-Help', 'genre_Thriller'],\n",
      "      dtype='object')\n"
     ]
    }
   ],
   "source": [
    "X = new_train.iloc[:, [2,5,6,7,8,11,14,15,16,17,18,19,20,21,22,23]].values\n",
    "y = new_train.iloc[:, 10].values\n",
    "print(X,y)\n",
    "print(new_train.iloc[:, [2,5,6,7,8,11,14,15,16,17,18,19,20,21,22,23]].columns)"
   ]
  },
  {
   "cell_type": "markdown",
   "metadata": {},
   "source": [
    "### Compared accuracy of 4 classification algorithms to impute missing Age_Bucket variable"
   ]
  },
  {
   "cell_type": "code",
   "execution_count": 28,
   "metadata": {},
   "outputs": [
    {
     "data": {
      "text/plain": [
       "0.23281549319508943"
      ]
     },
     "execution_count": 28,
     "metadata": {},
     "output_type": "execute_result"
    }
   ],
   "source": [
    "# Logistic Regression\n",
    "clf = LogisticRegression()\n",
    "clf.fit(X, y)\n",
    "cv = ShuffleSplit(n_splits=10, test_size=.2, random_state=0)\n",
    "scores = cross_val_score(clf, X, y, cv=4)\n",
    "scores.mean()"
   ]
  },
  {
   "cell_type": "code",
   "execution_count": 29,
   "metadata": {},
   "outputs": [
    {
     "data": {
      "text/plain": [
       "0.22628095789865738"
      ]
     },
     "execution_count": 29,
     "metadata": {},
     "output_type": "execute_result"
    }
   ],
   "source": [
    "# Random Forest Classifier\n",
    "clf = RandomForestClassifier(max_depth=8, random_state=0)\n",
    "clf.fit(X, y)\n",
    "cv = ShuffleSplit(n_splits=10, test_size=.2, random_state=0)\n",
    "scores = cross_val_score(clf, X, y, cv=4)\n",
    "scores.mean()"
   ]
  },
  {
   "cell_type": "code",
   "execution_count": 30,
   "metadata": {},
   "outputs": [
    {
     "data": {
      "text/plain": [
       "0.17464724352318475"
      ]
     },
     "execution_count": 30,
     "metadata": {},
     "output_type": "execute_result"
    }
   ],
   "source": [
    "# KNN\n",
    "clf = KNeighborsClassifier(n_neighbors=1)\n",
    "clf.fit(X, y)\n",
    "cv = ShuffleSplit(n_splits=10, test_size=.2, random_state=0)\n",
    "scores = cross_val_score(clf, X, y, cv=4)\n",
    "scores.mean()"
   ]
  },
  {
   "cell_type": "code",
   "execution_count": 31,
   "metadata": {},
   "outputs": [
    {
     "name": "stdout",
     "output_type": "stream",
     "text": [
      "0.233047781232\n",
      "[0 1 2 3 4 5 6]\n"
     ]
    }
   ],
   "source": [
    "#SVM\n",
    "clf = SVC(kernel='linear', C=1)\n",
    "clf.fit(X, y)\n",
    "cv = ShuffleSplit(n_splits=10, test_size=.2, random_state=0)\n",
    "scores = cross_val_score(clf, X, y, cv=4)\n",
    "print(scores.mean())\n",
    "print(np.unique(y))"
   ]
  },
  {
   "cell_type": "code",
   "execution_count": 32,
   "metadata": {},
   "outputs": [
    {
     "name": "stdout",
     "output_type": "stream",
     "text": [
      "[4]\n",
      "[4 4 4 ..., 4 4 4]\n"
     ]
    }
   ],
   "source": [
    "# since SVM has the highest accuracy\n",
    "clf = SVC(kernel='linear', C=1)\n",
    "clf.fit(X, y)\n",
    "X = df.iloc[:, [2,5,6,7,8,11,14,15,16,17,18,19,20,21,22,23]].values\n",
    "pred = clf.predict(X)\n",
    "print(np.unique(pred))\n",
    "print(pred)"
   ]
  },
  {
   "cell_type": "code",
   "execution_count": 33,
   "metadata": {},
   "outputs": [
    {
     "name": "stdout",
     "output_type": "stream",
     "text": [
      "[[  4.98876404e-01   1.63936557e-04   3.33333333e-01 ...,   1.00000000e+00\n",
      "    0.00000000e+00   0.00000000e+00]\n",
      " [  5.91011236e-01   6.46749708e-04   5.00000000e-01 ...,   1.00000000e+00\n",
      "    0.00000000e+00   0.00000000e+00]\n",
      " [  3.40823970e-01   1.75931914e-04   3.33333333e-01 ...,   0.00000000e+00\n",
      "    0.00000000e+00   0.00000000e+00]\n",
      " ..., \n",
      " [  2.98876404e-01   1.16954739e-04   8.33333333e-01 ...,   0.00000000e+00\n",
      "    0.00000000e+00   0.00000000e+00]\n",
      " [  2.47940075e-01   8.25680462e-04   0.00000000e+00 ...,   0.00000000e+00\n",
      "    0.00000000e+00   0.00000000e+00]\n",
      " [  6.90636704e-01   2.08919148e-04   5.00000000e-01 ...,   0.00000000e+00\n",
      "    0.00000000e+00   0.00000000e+00]] [5 5 5 ..., 5 5 5]\n",
      "Index(['retail_value', 'length', 'difficulty', 'fiction',\n",
      "       'is_returning_customer', 'genre_Beach-Read', 'genre_Biography',\n",
      "       'genre_Classic', 'genre_Drama', 'genre_History', 'genre_Pop-Psychology',\n",
      "       'genre_Pop-Sci', 'genre_Romance', 'genre_Sci-Fi', 'genre_Self-Help',\n",
      "       'genre_Thriller'],\n",
      "      dtype='object')\n"
     ]
    }
   ],
   "source": [
    "Xt = new_test.iloc[:, [4,5,6,7,10,12,13,14,15,16,17,18,19,20,21,22]].values\n",
    "yt = new_test.iloc[:, 9].values\n",
    "print(Xt,yt)\n",
    "print(new_test.iloc[:, [4,5,6,7,10,12,13,14,15,16,17,18,19,20,21,22]].columns)"
   ]
  },
  {
   "cell_type": "code",
   "execution_count": 34,
   "metadata": {},
   "outputs": [],
   "source": [
    "clf = SVC(kernel='linear', C=1).fit(Xt, yt)\n",
    "Xt = df_test.iloc[:, [4,5,6,7,10,12,13,14,15,16,17,18,19,20,21,22]].values\n",
    "predt = clf.predict(Xt)"
   ]
  },
  {
   "cell_type": "code",
   "execution_count": 35,
   "metadata": {},
   "outputs": [
    {
     "name": "stdout",
     "output_type": "stream",
     "text": [
      "[[  1.00000000e+00   3.79026217e-01   5.90771371e-04 ...,   1.00000000e+00\n",
      "    0.00000000e+00   0.00000000e+00]\n",
      " [  0.00000000e+00   4.45692884e-01   5.49787232e-05 ...,   0.00000000e+00\n",
      "    0.00000000e+00   0.00000000e+00]\n",
      " [  1.00000000e+00   6.21722846e-01   3.31871566e-04 ...,   0.00000000e+00\n",
      "    0.00000000e+00   0.00000000e+00]\n",
      " ..., \n",
      " [  1.00000000e+00   4.10486891e-01   1.71933462e-04 ...,   1.00000000e+00\n",
      "    0.00000000e+00   0.00000000e+00]\n",
      " [  1.00000000e+00   3.76029963e-01   5.32793809e-04 ...,   1.00000000e+00\n",
      "    0.00000000e+00   0.00000000e+00]\n",
      " [  0.00000000e+00   5.67041199e-01   6.04765956e-04 ...,   0.00000000e+00\n",
      "    0.00000000e+00   0.00000000e+00]] [[  2.08988764e-01   1.99922630e-04   8.33333333e-01 ...,   0.00000000e+00\n",
      "    0.00000000e+00   0.00000000e+00]\n",
      " [  4.23970037e-01   2.28911411e-04   1.00000000e+00 ...,   0.00000000e+00\n",
      "    0.00000000e+00   0.00000000e+00]\n",
      " [  1.19101124e-01   5.97768664e-04   5.00000000e-01 ...,   0.00000000e+00\n",
      "    0.00000000e+00   0.00000000e+00]\n",
      " ..., \n",
      " [  4.40449438e-01   5.35792648e-04   3.33333333e-01 ...,   0.00000000e+00\n",
      "    0.00000000e+00   0.00000000e+00]\n",
      " [  8.74906367e-01   6.41751642e-04   3.33333333e-01 ...,   0.00000000e+00\n",
      "    0.00000000e+00   0.00000000e+00]\n",
      " [  1.17602996e-01   6.22758992e-04   5.00000000e-01 ...,   0.00000000e+00\n",
      "    0.00000000e+00   0.00000000e+00]]\n",
      "Index(['purchased', 'retail_value', 'length', 'difficulty', 'fiction',\n",
      "       'is_returning_customer', 'genre_Biography', 'genre_Classic',\n",
      "       'genre_Drama', 'genre_History', 'genre_Pop-Psychology', 'genre_Pop-Sci',\n",
      "       'genre_Romance', 'genre_Sci-Fi', 'genre_Self-Help', 'genre_Thriller'],\n",
      "      dtype='object')\n"
     ]
    }
   ],
   "source": [
    "# Will use SVM to impute age_bucket since it has the highest accuracy score\n",
    "y = df.iloc[:, 10].values\n",
    "yt = df_test.iloc[:, 9].values\n",
    "print(X,Xt)\n",
    "print(df.iloc[:, [2,5,6,7,8,11,14,15,16,17,18,19,20,21,22,23]].columns)"
   ]
  },
  {
   "cell_type": "code",
   "execution_count": 36,
   "metadata": {},
   "outputs": [
    {
     "name": "stdout",
     "output_type": "stream",
     "text": [
      "4    1565\n",
      "Name: age_bucket, dtype: int64\n",
      "4    2335\n",
      "Name: age_bucket, dtype: int64\n"
     ]
    },
    {
     "name": "stderr",
     "output_type": "stream",
     "text": [
      "C:\\Users\\Osula\\Anaconda2\\envs\\python35\\lib\\site-packages\\ipykernel_launcher.py:1: SettingWithCopyWarning: \n",
      "A value is trying to be set on a copy of a slice from a DataFrame.\n",
      "Try using .loc[row_indexer,col_indexer] = value instead\n",
      "\n",
      "See the caveats in the documentation: http://pandas.pydata.org/pandas-docs/stable/indexing.html#indexing-view-versus-copy\n",
      "  \"\"\"Entry point for launching an IPython kernel.\n",
      "C:\\Users\\Osula\\Anaconda2\\envs\\python35\\lib\\site-packages\\ipykernel_launcher.py:2: SettingWithCopyWarning: \n",
      "A value is trying to be set on a copy of a slice from a DataFrame.\n",
      "Try using .loc[row_indexer,col_indexer] = value instead\n",
      "\n",
      "See the caveats in the documentation: http://pandas.pydata.org/pandas-docs/stable/indexing.html#indexing-view-versus-copy\n",
      "  \n"
     ]
    }
   ],
   "source": [
    "df['age_bucket'] = pred\n",
    "df_test['age_bucket'] = predt\n",
    "print(df['age_bucket'].value_counts())\n",
    "print(df_test['age_bucket'].value_counts())"
   ]
  },
  {
   "cell_type": "code",
   "execution_count": 37,
   "metadata": {},
   "outputs": [
    {
     "name": "stdout",
     "output_type": "stream",
     "text": [
      "   customer_id  product_id  purchased  quantity_purchased  cost_to_buy  \\\n",
      "0      1000078     1730073          0                  81         1.74   \n",
      "1      1000078     1470520          0                  99         1.92   \n",
      "2      1000078     1861356          0                  65         1.98   \n",
      "3      1000078     1240824          1                  52         2.21   \n",
      "4      1000078     1155460          0                  53         1.78   \n",
      "\n",
      "   retail_value    length  difficulty  fiction     genre       ...        \\\n",
      "0      0.298876  0.000117    0.833333        1     Drama       ...         \n",
      "1      0.571536  0.000832    1.000000        1   Romance       ...         \n",
      "2      0.313858  0.000054    0.000000        1  Thriller       ...         \n",
      "3      0.698127  0.000352    0.333333        1   Classic       ...         \n",
      "4      0.585019  0.000808    0.333333        1  Thriller       ...         \n",
      "\n",
      "   genre_Biography  genre_Classic genre_Drama  genre_History  \\\n",
      "0                0              0           1              0   \n",
      "1                0              0           0              0   \n",
      "2                0              0           0              0   \n",
      "3                0              1           0              0   \n",
      "4                0              0           0              0   \n",
      "\n",
      "   genre_Pop-Psychology  genre_Pop-Sci  genre_Romance  genre_Sci-Fi  \\\n",
      "0                     0              0              0             0   \n",
      "1                     0              0              1             0   \n",
      "2                     0              0              0             0   \n",
      "3                     0              0              0             0   \n",
      "4                     0              0              0             0   \n",
      "\n",
      "   genre_Self-Help  genre_Thriller  \n",
      "0                0               0  \n",
      "1                0               0  \n",
      "2                0               1  \n",
      "3                0               0  \n",
      "4                0               1  \n",
      "\n",
      "[5 rows x 24 columns] (36000, 24)\n",
      "customer_id              0\n",
      "product_id               0\n",
      "purchased                0\n",
      "quantity_purchased       0\n",
      "cost_to_buy              0\n",
      "retail_value             0\n",
      "length                   0\n",
      "difficulty               0\n",
      "fiction                  0\n",
      "genre                    0\n",
      "age_bucket               0\n",
      "is_returning_customer    0\n",
      "favorite_genres          0\n",
      "genre_Beach-Read         0\n",
      "genre_Biography          0\n",
      "genre_Classic            0\n",
      "genre_Drama              0\n",
      "genre_History            0\n",
      "genre_Pop-Psychology     0\n",
      "genre_Pop-Sci            0\n",
      "genre_Romance            0\n",
      "genre_Sci-Fi             0\n",
      "genre_Self-Help          0\n",
      "genre_Thriller           0\n",
      "dtype: int64\n"
     ]
    }
   ],
   "source": [
    "train = new_train.append(df)\n",
    "test = new_test.append(df_test)\n",
    "print(train.head(), train.shape)\n",
    "print(train.isnull().sum())"
   ]
  },
  {
   "cell_type": "code",
   "execution_count": 38,
   "metadata": {},
   "outputs": [
    {
     "data": {
      "text/plain": [
       "customer_id              0\n",
       "product_id               0\n",
       "quantity_purchased       0\n",
       "cost_to_buy              0\n",
       "retail_value             0\n",
       "length                   0\n",
       "difficulty               0\n",
       "fiction                  0\n",
       "genre                    0\n",
       "age_bucket               0\n",
       "is_returning_customer    0\n",
       "favorite_genres          0\n",
       "genre_Beach-Read         0\n",
       "genre_Biography          0\n",
       "genre_Classic            0\n",
       "genre_Drama              0\n",
       "genre_History            0\n",
       "genre_Pop-Psychology     0\n",
       "genre_Pop-Sci            0\n",
       "genre_Romance            0\n",
       "genre_Sci-Fi             0\n",
       "genre_Self-Help          0\n",
       "genre_Thriller           0\n",
       "dtype: int64"
      ]
     },
     "execution_count": 38,
     "metadata": {},
     "output_type": "execute_result"
    }
   ],
   "source": [
    "test.isnull().sum()"
   ]
  },
  {
   "cell_type": "code",
   "execution_count": 39,
   "metadata": {},
   "outputs": [
    {
     "name": "stdout",
     "output_type": "stream",
     "text": [
      "train:     0  1  2  3  4  5  6\n",
      "0  0  0  0  0  1  0  0\n",
      "1  0  0  0  0  1  0  0\n",
      "2  0  0  0  0  1  0  0\n",
      "3  0  0  0  0  1  0  0\n",
      "4  0  0  0  0  1  0  0 (36000, 7)\n",
      "test:     0  1  2  3  4  5  6\n",
      "0  0  0  0  0  0  1  0\n",
      "1  0  0  0  0  0  1  0\n",
      "2  0  0  0  0  0  1  0\n",
      "3  0  0  0  0  0  1  0\n",
      "4  0  0  0  0  0  1  0 (56400, 7)\n"
     ]
    }
   ],
   "source": [
    "age_dum = pd.get_dummies(train['age_bucket'])\n",
    "age_dumt = pd.get_dummies(test['age_bucket'])\n",
    "print(\"train: \", age_dum.head(), age_dum.shape)\n",
    "print(\"test: \", age_dumt.head(), age_dumt.shape)"
   ]
  },
  {
   "cell_type": "code",
   "execution_count": 40,
   "metadata": {},
   "outputs": [
    {
     "name": "stdout",
     "output_type": "stream",
     "text": [
      "test:     customer_id  product_id  quantity_purchased  cost_to_buy  retail_value  \\\n",
      "0      1600785     1443029                  71         2.27      0.498876   \n",
      "1      1600785     1164138                  97         2.23      0.591011   \n",
      "2      1600785     1636511                  51         1.61      0.340824   \n",
      "3      1600785     1832547                  95         2.09      0.552809   \n",
      "4      1600785     1237420                  57         1.24      0.235955   \n",
      "\n",
      "     length  difficulty  fiction       genre  age_bucket  ...    genre_Sci-Fi  \\\n",
      "0  0.000164    0.333333        1      Sci-Fi           5  ...               1   \n",
      "1  0.000647    0.500000        1      Sci-Fi           5  ...               1   \n",
      "2  0.000176    0.333333        1       Drama           5  ...               0   \n",
      "3  0.000166    0.500000        1  Beach-Read           5  ...               0   \n",
      "4  0.000269    1.000000        0   Self-Help           5  ...               0   \n",
      "\n",
      "  genre_Self-Help  genre_Thriller  age_0  age_1  age_2  age_3  age_4  age_5  \\\n",
      "0               0               0      0      0      0      0      0      1   \n",
      "1               0               0      0      0      0      0      0      1   \n",
      "2               0               0      0      0      0      0      0      1   \n",
      "3               0               0      0      0      0      0      0      1   \n",
      "4               1               0      0      0      0      0      0      1   \n",
      "\n",
      "   age_6  \n",
      "0      0  \n",
      "1      0  \n",
      "2      0  \n",
      "3      0  \n",
      "4      0  \n",
      "\n",
      "[5 rows x 30 columns] (56400, 30)\n"
     ]
    }
   ],
   "source": [
    "for i in age_dum.columns:\n",
    "    train['age_'+ str(i)] = age_dum[i]\n",
    "    test['age_'+ str(i)] = age_dumt[i]\n",
    "    \n",
    "print(\"test: \", test.head(), test.shape)"
   ]
  },
  {
   "cell_type": "code",
   "execution_count": 41,
   "metadata": {},
   "outputs": [
    {
     "name": "stdout",
     "output_type": "stream",
     "text": [
      "   purchased  retail_value    length  difficulty  fiction  \\\n",
      "0          0      0.298876  0.000117    0.833333        1   \n",
      "1          0      0.571536  0.000832    1.000000        1   \n",
      "2          0      0.313858  0.000054    0.000000        1   \n",
      "3          1      0.698127  0.000352    0.333333        1   \n",
      "4          0      0.585019  0.000808    0.333333        1   \n",
      "\n",
      "   is_returning_customer  genre_Beach-Read  genre_Biography  genre_Classic  \\\n",
      "0                      1                 0                0              0   \n",
      "1                      1                 0                0              0   \n",
      "2                      1                 0                0              0   \n",
      "3                      1                 0                0              1   \n",
      "4                      1                 0                0              0   \n",
      "\n",
      "   genre_Drama  ...    genre_Sci-Fi  genre_Self-Help  genre_Thriller  age_0  \\\n",
      "0            1  ...               0                0               0      0   \n",
      "1            0  ...               0                0               0      0   \n",
      "2            0  ...               0                0               1      0   \n",
      "3            0  ...               0                0               0      0   \n",
      "4            0  ...               0                0               1      0   \n",
      "\n",
      "   age_1  age_2  age_3  age_4  age_5  age_6  \n",
      "0      0      0      0      1      0      0  \n",
      "1      0      0      0      1      0      0  \n",
      "2      0      0      0      1      0      0  \n",
      "3      0      0      0      1      0      0  \n",
      "4      0      0      0      1      0      0  \n",
      "\n",
      "[5 rows x 24 columns] (36000, 24)\n",
      "Index(['purchased', 'retail_value', 'length', 'difficulty', 'fiction',\n",
      "       'is_returning_customer', 'genre_Beach-Read', 'genre_Biography',\n",
      "       'genre_Classic', 'genre_Drama', 'genre_History', 'genre_Pop-Psychology',\n",
      "       'genre_Pop-Sci', 'genre_Romance', 'genre_Sci-Fi', 'genre_Self-Help',\n",
      "       'genre_Thriller', 'age_0', 'age_1', 'age_2', 'age_3', 'age_4', 'age_5',\n",
      "       'age_6'],\n",
      "      dtype='object')\n"
     ]
    }
   ],
   "source": [
    "train = train.drop([\n",
    "            'customer_id', 'product_id', 'quantity_purchased', 'cost_to_buy', \n",
    "            'genre', 'age_bucket', 'favorite_genres'], axis = 1)\n",
    "print(train.head(), train.shape)\n",
    "print(train.columns)"
   ]
  },
  {
   "cell_type": "code",
   "execution_count": 42,
   "metadata": {},
   "outputs": [
    {
     "name": "stdout",
     "output_type": "stream",
     "text": [
      "       customer_id  product_id\n",
      "0          1600785     1443029\n",
      "1          1600785     1164138\n",
      "2          1600785     1636511\n",
      "3          1600785     1832547\n",
      "4          1600785     1237420\n",
      "5          1600852     1597824\n",
      "6          1600852     1755017\n",
      "7          1600852     1267131\n",
      "8          1600852     1516839\n",
      "9          1600852     1833307\n",
      "10         1600959     1486209\n",
      "11         1600959     1028567\n",
      "12         1600959     1889979\n",
      "13         1600959     1634459\n",
      "14         1600959     1596114\n",
      "15         1600969     1820289\n",
      "16         1600969     1465869\n",
      "17         1600969     1140363\n",
      "18         1600969     1745803\n",
      "19         1600969     1859893\n",
      "20         1601034     1094131\n",
      "21         1601034     1602884\n",
      "22         1601034     1112685\n",
      "23         1601034     1605396\n",
      "24         1601034     1387146\n",
      "25         1601055     1626869\n",
      "26         1601055     1025311\n",
      "27         1601055     1324552\n",
      "28         1601055     1986746\n",
      "29         1601055     1624722\n",
      "...            ...         ...\n",
      "55835      1559241     1517017\n",
      "55836      1559241     1534481\n",
      "55837      1559241     1670831\n",
      "55838      1559241     1950123\n",
      "55839      1559241     1297684\n",
      "55870      1008023     1950123\n",
      "55871      1008023     1177156\n",
      "55872      1008023     1792550\n",
      "55873      1008023     1749725\n",
      "55874      1008023     1791016\n",
      "56005      1008184     1957566\n",
      "56006      1008184     1725885\n",
      "56007      1008184     1867324\n",
      "56008      1008184     1115971\n",
      "56009      1008184     1889979\n",
      "56065      1149338     1443895\n",
      "56066      1149338     1288609\n",
      "56067      1149338     1147013\n",
      "56068      1149338     1697122\n",
      "56069      1149338     1473423\n",
      "56140      1169479     1859110\n",
      "56141      1169479     1788003\n",
      "56142      1169479     1668743\n",
      "56143      1169479     1610242\n",
      "56144      1169479     1470436\n",
      "56300      1001712     1704151\n",
      "56301      1001712     1775872\n",
      "56302      1001712     1817453\n",
      "56303      1001712     1448703\n",
      "56304      1001712     1726255\n",
      "\n",
      "[56400 rows x 2 columns]\n",
      "   retail_value    length  difficulty  fiction  is_returning_customer  \\\n",
      "0      0.498876  0.000164    0.333333        1                      0   \n",
      "1      0.591011  0.000647    0.500000        1                      0   \n",
      "2      0.340824  0.000176    0.333333        1                      0   \n",
      "3      0.552809  0.000166    0.500000        1                      0   \n",
      "4      0.235955  0.000269    1.000000        0                      0   \n",
      "\n",
      "   genre_Beach-Read  genre_Biography  genre_Classic  genre_Drama  \\\n",
      "0                 0                0              0            0   \n",
      "1                 0                0              0            0   \n",
      "2                 0                0              0            1   \n",
      "3                 1                0              0            0   \n",
      "4                 0                0              0            0   \n",
      "\n",
      "   genre_History  ...    genre_Sci-Fi  genre_Self-Help  genre_Thriller  age_0  \\\n",
      "0              0  ...               1                0               0      0   \n",
      "1              0  ...               1                0               0      0   \n",
      "2              0  ...               0                0               0      0   \n",
      "3              0  ...               0                0               0      0   \n",
      "4              0  ...               0                1               0      0   \n",
      "\n",
      "   age_1  age_2  age_3  age_4  age_5  age_6  \n",
      "0      0      0      0      0      1      0  \n",
      "1      0      0      0      0      1      0  \n",
      "2      0      0      0      0      1      0  \n",
      "3      0      0      0      0      1      0  \n",
      "4      0      0      0      0      1      0  \n",
      "\n",
      "[5 rows x 23 columns] (56400, 23)\n",
      "Index(['retail_value', 'length', 'difficulty', 'fiction',\n",
      "       'is_returning_customer', 'genre_Beach-Read', 'genre_Biography',\n",
      "       'genre_Classic', 'genre_Drama', 'genre_History', 'genre_Pop-Psychology',\n",
      "       'genre_Pop-Sci', 'genre_Romance', 'genre_Sci-Fi', 'genre_Self-Help',\n",
      "       'genre_Thriller', 'age_0', 'age_1', 'age_2', 'age_3', 'age_4', 'age_5',\n",
      "       'age_6'],\n",
      "      dtype='object')\n"
     ]
    }
   ],
   "source": [
    "y_train = train['purchased']\n",
    "next = test.iloc[:, 0:2]\n",
    "print(next)\n",
    "test = test.drop([\n",
    "            'customer_id', 'product_id', 'quantity_purchased', 'cost_to_buy', \n",
    "            'genre', 'age_bucket', 'favorite_genres'], axis = 1)\n",
    "print(test.head(), test.shape)\n",
    "print(test.columns)"
   ]
  },
  {
   "cell_type": "markdown",
   "metadata": {},
   "source": [
    "## Final Models\n",
    "### Wanted to compare ould have used XGBoost since predictions were more accuarte"
   ]
  },
  {
   "cell_type": "code",
   "execution_count": 43,
   "metadata": {
    "collapsed": true
   },
   "outputs": [],
   "source": [
    "# XGBoost\n",
    "xgb_params = {\n",
    "        'n_trees': 395,\n",
    "        'eta': 0.0065,\n",
    "        'max_depth': 3,\n",
    "        'subsample': 0.50,\n",
    "        'min_child_weight': 34,\n",
    "        'objective': 'binary:logistic',\n",
    "        'eval_metric': 'error',\n",
    "        'base_score': 0.5,\n",
    "        'silent': 1\n",
    "}"
   ]
  },
  {
   "cell_type": "code",
   "execution_count": 44,
   "metadata": {},
   "outputs": [
    {
     "name": "stdout",
     "output_type": "stream",
     "text": [
      "23 36000\n",
      "23 56400\n"
     ]
    }
   ],
   "source": [
    "dtrain = xgb.DMatrix(train.drop('purchased', axis = 1), y_train)\n",
    "dtest = xgb.DMatrix(test)\n",
    "print(dtrain.num_col(), dtrain.num_row())\n",
    "print(dtest.num_col(), dtest.num_row())"
   ]
  },
  {
   "cell_type": "code",
   "execution_count": 45,
   "metadata": {},
   "outputs": [
    {
     "name": "stdout",
     "output_type": "stream",
     "text": [
      "[0]\ttrain-error:0.261472\ttest-error:0.264194\n",
      "[50]\ttrain-error:0.256667\ttest-error:0.258416\n",
      "[100]\ttrain-error:0.252986\ttest-error:0.254333\n",
      "[150]\ttrain-error:0.252361\ttest-error:0.253167\n",
      "[200]\ttrain-error:0.250361\ttest-error:0.252083\n",
      "[250]\ttrain-error:0.249181\ttest-error:0.250917\n",
      "[300]\ttrain-error:0.248083\ttest-error:0.249778\n",
      "[350]\ttrain-error:0.246556\ttest-error:0.2485\n",
      "[400]\ttrain-error:0.245375\ttest-error:0.248028\n"
     ]
    }
   ],
   "source": [
    "cv_result = xgb.cv(xgb_params, \n",
    "                   dtrain, \n",
    "                   num_boost_round=1500,\n",
    "                   #nfold=10,\n",
    "                   early_stopping_rounds=25,\n",
    "                   verbose_eval=50, \n",
    "                   show_stdv=False,\n",
    "                   seed=2017\n",
    "                  )"
   ]
  },
  {
   "cell_type": "code",
   "execution_count": 46,
   "metadata": {},
   "outputs": [
    {
     "data": {
      "text/plain": [
       "388"
      ]
     },
     "execution_count": 46,
     "metadata": {},
     "output_type": "execute_result"
    }
   ],
   "source": [
    "num_boost_rounds = len(cv_result)\n",
    "num_boost_rounds"
   ]
  },
  {
   "cell_type": "code",
   "execution_count": 47,
   "metadata": {
    "collapsed": true
   },
   "outputs": [],
   "source": [
    "## Train model\n",
    "model = xgb.train(\n",
    "            dict(xgb_params, silent=0), \n",
    "            dtrain, num_boost_round=num_boost_rounds)\n",
    "\n",
    "y_pred = model.predict(dtest)"
   ]
  },
  {
   "cell_type": "code",
   "execution_count": 48,
   "metadata": {},
   "outputs": [
    {
     "name": "stdout",
     "output_type": "stream",
     "text": [
      "Accuracy on Training Set: 27136\n",
      "Confusion Matrix on Training Set: [[19562  3759]\n",
      " [ 5105  7574]]\n"
     ]
    }
   ],
   "source": [
    "print(\"Accuracy on Training Set: {}\".format(accuracy_score(dtrain.get_label(), model.predict(dtrain).round(), normalize=False)))\n",
    "print(\"Confusion Matrix on Training Set: {}\".format(confusion_matrix(dtrain.get_label(), model.predict(dtrain).round())))"
   ]
  },
  {
   "cell_type": "code",
   "execution_count": 49,
   "metadata": {},
   "outputs": [],
   "source": [
    "# Predict on the test set and save results.\n",
    "output = pd.DataFrame({\n",
    "                'customer_id': next.loc[:, 'customer_id'].astype(np.int32), \n",
    "                'product_id': next.loc[:, 'product_id'].astype(np.int32),     \n",
    "                'purchased': y_pred})\n",
    "\n",
    "output.to_csv('next_month_assortment.csv', index=False)"
   ]
  }
 ],
 "metadata": {
  "kernelspec": {
   "display_name": "Python 3",
   "language": "python",
   "name": "python3"
  },
  "language_info": {
   "codemirror_mode": {
    "name": "ipython",
    "version": 3
   },
   "file_extension": ".py",
   "mimetype": "text/x-python",
   "name": "python",
   "nbconvert_exporter": "python",
   "pygments_lexer": "ipython3",
   "version": "3.5.3"
  }
 },
 "nbformat": 4,
 "nbformat_minor": 2
}
